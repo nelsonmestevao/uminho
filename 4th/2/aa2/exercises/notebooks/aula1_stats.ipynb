{
 "cells": [
  {
   "cell_type": "markdown",
   "metadata": {},
   "source": [
    "# Testes estatísticos - exemplos slides"
   ]
  },
  {
   "cell_type": "code",
   "execution_count": null,
   "metadata": {},
   "outputs": [],
   "source": [
    "import numpy as np \n",
    "import pandas as pd\n",
    "import statsmodels.api as sm\n",
    "from scipy import stats"
   ]
  },
  {
   "cell_type": "markdown",
   "metadata": {},
   "source": [
    "\n",
    "## Normalidade\n"
   ]
  },
  {
   "cell_type": "code",
   "execution_count": null,
   "metadata": {},
   "outputs": [],
   "source": [
    "test =np.random.normal(0,1,1000)\n",
    "sm.qqplot(test,line='45')"
   ]
  },
  {
   "cell_type": "code",
   "execution_count": null,
   "metadata": {},
   "outputs": [],
   "source": [
    "x = np.random.normal(0,1,1000)\n",
    "w, p_value = stats.shapiro(x)\n",
    "print (p_value)\n",
    "\n",
    "x = np.random.random(1000)\n",
    "w, p_value = stats.shapiro(x)\n",
    "print(p_value)"
   ]
  },
  {
   "cell_type": "markdown",
   "metadata": {},
   "source": [
    "## Teste à média"
   ]
  },
  {
   "cell_type": "code",
   "execution_count": null,
   "metadata": {
    "scrolled": true
   },
   "outputs": [],
   "source": [
    "diasChuva16= [15, 10, 13, 7, 9, 8, 21, 9, 14, 8, 17, 15]\n",
    "diasChuva17 = [15, 14, 12, 8, 14, 7, 16, 10, 15, 12, 16, 15]\n",
    "\n",
    "print(stats.ttest_ind(diasChuva16, diasChuva17) )\n",
    "\n",
    "print(sm.stats.ttest_ind(diasChuva16, diasChuva17) )"
   ]
  },
  {
   "cell_type": "markdown",
   "metadata": {},
   "source": [
    "## Análise à variância"
   ]
  },
  {
   "cell_type": "code",
   "execution_count": null,
   "metadata": {},
   "outputs": [],
   "source": [
    "iris = pd.read_csv('iris.csv',sep=',', index_col = 0)\n",
    "iris.columns =[\"Sepal_Length\",\"Sepal_Width\",\"Petal_Length\",\"Petal_Width\",\"Species\"]\n",
    "g1 = iris[iris[\"Species\"]==\"setosa\"]\n",
    "g2 = iris[iris[\"Species\"]==\"virginica\"]\n",
    "g3 = iris[iris[\"Species\"]==\"versicolor\"]\n",
    "\n",
    "stats.f_oneway(g1.Petal_Length,g2.Petal_Length,g3.Petal_Length)\n"
   ]
  },
  {
   "cell_type": "code",
   "execution_count": null,
   "metadata": {},
   "outputs": [],
   "source": [
    "from statsmodels.formula.api import ols\n",
    "from statsmodels.stats.anova import anova_lm\n",
    "lm = ols(\"iris.Petal_Length~iris.Species\", iris).fit()\n",
    "lm = ols(\"iris['Petal_Length']~iris['Species']\", iris).fit()\n",
    "anova_lm(lm)\n",
    "#iris.head()"
   ]
  },
  {
   "cell_type": "code",
   "execution_count": null,
   "metadata": {},
   "outputs": [],
   "source": [
    "import statsmodels.stats.multicomp as multi\n",
    "\n",
    "x = np.random.choice(['A','B','C'], 50)\n",
    "y = np.random.normal(0,1,50)\n",
    "mcDate = multi.MultiComparison(y,x)\n",
    "\n",
    "Results = mcDate.tukeyhsd()\n",
    "print(Results)"
   ]
  },
  {
   "cell_type": "code",
   "execution_count": null,
   "metadata": {},
   "outputs": [],
   "source": []
  }
 ],
 "metadata": {
  "kernelspec": {
   "display_name": "Python 3",
   "language": "python",
   "name": "python3"
  },
  "language_info": {
   "codemirror_mode": {
    "name": "ipython",
    "version": 3
   },
   "file_extension": ".py",
   "mimetype": "text/x-python",
   "name": "python",
   "nbconvert_exporter": "python",
   "pygments_lexer": "ipython3",
   "version": "3.9.0"
  }
 },
 "nbformat": 4,
 "nbformat_minor": 4
}
