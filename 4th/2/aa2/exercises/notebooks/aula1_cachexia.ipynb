{
 "cells": [
  {
   "cell_type": "markdown",
   "metadata": {},
   "source": [
    "## Dataset cachexia - Exploração de dados, pré-processamento e análise estatística univariada\n",
    "Nesta secção vamos trabalhar com os dados do dataset Cachexia : \n",
    "\n",
    "*\"Concentrations of 63 metabolites in 77 urine samples from cancer patients, measured by 1H NMR (Eisner et al, 2011). Metadata defines the two groups: control and cachexic patients.\"*\n",
    "\n",
    "Importação e análise da dimensão dos dados"
   ]
  },
  {
   "cell_type": "code",
   "execution_count": null,
   "metadata": {},
   "outputs": [],
   "source": [
    "import numpy as np \n",
    "import pandas as pd\n",
    "import matplotlib.pyplot as plt \n",
    "# para desenhar os gráficos dentro do notebook\n",
    "%matplotlib inline\n"
   ]
  },
  {
   "cell_type": "code",
   "execution_count": null,
   "metadata": {},
   "outputs": [],
   "source": [
    "data = pd.read_csv('data_cachexia.csv',sep=',', index_col = 0)\n",
    "meta = pd.read_csv('meta_cachexia.csv',sep=',', index_col = 0)\n",
    "print (data.shape)\n",
    "print (meta.shape)\n",
    "data.head()"
   ]
  },
  {
   "cell_type": "markdown",
   "metadata": {},
   "source": [
    "Sumário dos dados"
   ]
  },
  {
   "cell_type": "code",
   "execution_count": null,
   "metadata": {},
   "outputs": [],
   "source": [
    "data.describe()\n",
    "#data.columns"
   ]
  },
  {
   "cell_type": "markdown",
   "metadata": {},
   "source": [
    "Sumário dos metadados "
   ]
  },
  {
   "cell_type": "code",
   "execution_count": null,
   "metadata": {},
   "outputs": [],
   "source": [
    "meta.describe()\n"
   ]
  },
  {
   "cell_type": "markdown",
   "metadata": {},
   "source": [
    "Frequência de cada categoria nos metadados"
   ]
  },
  {
   "cell_type": "code",
   "execution_count": null,
   "metadata": {},
   "outputs": [],
   "source": [
    "meta.groupby(\"Muscle.loss\").size()"
   ]
  },
  {
   "cell_type": "markdown",
   "metadata": {},
   "source": [
    "Verificar que não há valores em falta."
   ]
  },
  {
   "cell_type": "code",
   "execution_count": null,
   "metadata": {},
   "outputs": [],
   "source": [
    "data.isnull().sum().sum()"
   ]
  },
  {
   "cell_type": "markdown",
   "metadata": {},
   "source": [
    "Para cada coluna apresentar o intervalo de valores"
   ]
  },
  {
   "cell_type": "code",
   "execution_count": null,
   "metadata": {},
   "outputs": [],
   "source": [
    "data.apply(lambda x: str(x.min())+\"---\"+str( x.max()))"
   ]
  },
  {
   "cell_type": "markdown",
   "metadata": {},
   "source": [
    "Criar um gráfico que permita visualizar os valores dos metabolitos \"Alanine\", \"Citrate\" e \"Creatinine\" para os pacientes de control. "
   ]
  },
  {
   "cell_type": "code",
   "execution_count": null,
   "metadata": {},
   "outputs": [],
   "source": [
    "data_control = data[meta[\"Muscle.loss\"]==\"control\"]\n",
    "data_control.iloc[:,[13,17,19]].plot.bar()"
   ]
  },
  {
   "cell_type": "markdown",
   "metadata": {},
   "source": [
    "Exemplo de discretização de dados - alterar os dados do metabolito Citrate de valor continuo para discretos: \n",
    "    \"elevado\", \"baixo\" consoante o valor seja: maior ou menor que a média."
   ]
  },
  {
   "cell_type": "code",
   "execution_count": null,
   "metadata": {},
   "outputs": [],
   "source": [
    "cit = data.Citrate.copy()\n",
    "\n",
    "mean = cit.mean()\n",
    "cit[cit>mean]=\"elevado\"\n",
    "cit[cit!=\"elevado\"]=\"baixo\"\n",
    "cit"
   ]
  },
  {
   "cell_type": "markdown",
   "metadata": {},
   "source": [
    "Standardização dos dados"
   ]
  },
  {
   "cell_type": "code",
   "execution_count": null,
   "metadata": {},
   "outputs": [],
   "source": [
    "from sklearn import preprocessing\n",
    "array_data = preprocessing.scale(data)#, with_mean = False)\n",
    "data_scale =  pd.DataFrame(array_data, index =data.index , columns = data.columns)\n",
    "data_control = data_scale[meta[\"Muscle.loss\"]==\"control\"]\n",
    "data_control.iloc[:,[13,17,19]].plot.bar()"
   ]
  },
  {
   "cell_type": "markdown",
   "metadata": {},
   "source": [
    "Cria um boxplot para ver a distribuição dos valores dos metabolitos Asparagine, Acetate, Succinate."
   ]
  },
  {
   "cell_type": "code",
   "execution_count": null,
   "metadata": {},
   "outputs": [],
   "source": [
    "indexes = [ind for ind in range(len(data.columns)) if data.columns[ind] in ['Asparagine', 'Acetate', 'Succinate']]\n",
    "sel_data = data.iloc[:,indexes].values\n",
    "labels = data.columns[indexes]\n",
    "\n",
    "#ou \n",
    "sel_data = data.loc[:,['Asparagine', 'Acetate', 'Succinate']].values\n",
    "labels = ['Asparagine', 'Acetate', 'Succinate']\n",
    "\n",
    "plt.boxplot(sel_data)\n",
    "plt.xticks([1,2,3],labels)\n",
    "plt.title(\" Boxplot\")\n",
    "plt.show()\n"
   ]
  },
  {
   "cell_type": "code",
   "execution_count": null,
   "metadata": {},
   "outputs": [],
   "source": [
    "indexes = [ind for ind in range(len(data.columns)) if data.columns[ind] in ['Sucrose', 'Glucose', 'Xylose']]\n",
    "sel_data = data.iloc[:,indexes].values\n",
    "labels = data.columns[indexes]\n",
    "plt.boxplot(sel_data)\n",
    "plt.xticks([1,2,3],labels)\n",
    "plt.title(\" Boxplot\")\n",
    "plt.show()"
   ]
  },
  {
   "cell_type": "markdown",
   "metadata": {},
   "source": [
    "Transformação logarítmica"
   ]
  },
  {
   "cell_type": "code",
   "execution_count": null,
   "metadata": {},
   "outputs": [],
   "source": [
    "log_data = np.log2(data)\n",
    "log_data.apply(lambda x: str(x.min())+\"---\"+str( x.max()))"
   ]
  },
  {
   "cell_type": "code",
   "execution_count": null,
   "metadata": {},
   "outputs": [],
   "source": [
    "sel_log_data = log_data.iloc[:,indexes].values\n",
    "\n",
    "plt.boxplot(sel_log_data)\n",
    "plt.xticks([1,2,3],labels)\n",
    "plt.title(\" Boxplot\")\n",
    "plt.show()"
   ]
  },
  {
   "cell_type": "markdown",
   "metadata": {},
   "source": [
    "### Exemplos com testes estatísticos\n",
    "Verifica se a distribuição do metabolito Alanine segue a distribuição normal."
   ]
  },
  {
   "cell_type": "code",
   "execution_count": null,
   "metadata": {},
   "outputs": [],
   "source": [
    "import statsmodels.api as sm\n",
    "from scipy import stats"
   ]
  },
  {
   "cell_type": "code",
   "execution_count": null,
   "metadata": {},
   "outputs": [],
   "source": [
    "plt.close()\n",
    "data_alanine = data.Alanine\n",
    "plt.hist(data_alanine)"
   ]
  },
  {
   "cell_type": "code",
   "execution_count": null,
   "metadata": {},
   "outputs": [],
   "source": [
    "plt.close()\n",
    "from sklearn import preprocessing\n",
    "sm.qqplot(preprocessing.scale(data_alanine), line='45')\n"
   ]
  },
  {
   "cell_type": "code",
   "execution_count": null,
   "metadata": {},
   "outputs": [],
   "source": [
    "w, p_value = stats.shapiro(data_alanine)\n",
    "p_value\n",
    "# rejeita HO ... logo dados não seguem a distribuição normal\n"
   ]
  },
  {
   "cell_type": "markdown",
   "metadata": {},
   "source": [
    "A concentração de Alanina entre as duas categorias é semelhante?"
   ]
  },
  {
   "cell_type": "code",
   "execution_count": null,
   "metadata": {},
   "outputs": [],
   "source": [
    "data_alanine = data.Alanine\n",
    "control = data_alanine[meta[\"Muscle.loss\"]==\"control\"]\n",
    "cachexic = data_alanine[meta[\"Muscle.loss\"]==\"cachexic\"]\n",
    "\n",
    "plt.hist(control)\n",
    "plt.show()\n",
    "plt.hist(cachexic)\n",
    "plt.show()\n"
   ]
  },
  {
   "cell_type": "code",
   "execution_count": null,
   "metadata": {},
   "outputs": [],
   "source": [
    "stats.ttest_ind(control,cachexic)\n",
    "# Rejeita-se a hipose nula (as duas amostras não tem média igual)"
   ]
  },
  {
   "cell_type": "code",
   "execution_count": null,
   "metadata": {},
   "outputs": [],
   "source": [
    "plt.close()\n",
    "plt.boxplot([control,cachexic])\n",
    "plt.show()"
   ]
  },
  {
   "cell_type": "markdown",
   "metadata": {},
   "source": [
    "Quais os metabolitos que têm concentrações significativamente diferentes entre os dois grupos: control e cachexic. "
   ]
  },
  {
   "cell_type": "code",
   "execution_count": null,
   "metadata": {},
   "outputs": [],
   "source": [
    "type(data[meta['Muscle.loss']=='control'])"
   ]
  },
  {
   "cell_type": "code",
   "execution_count": null,
   "metadata": {},
   "outputs": [],
   "source": [
    "metabs_de_tt = lambda x : stats.ttest_ind(x[meta['Muscle.loss']=='control'],x[meta['Muscle.loss']=='cachexic'])\n",
    "\n",
    "data.columns[data.apply(lambda x: metabs_de_tt(x)[1]<0.05)]"
   ]
  },
  {
   "cell_type": "markdown",
   "metadata": {},
   "source": [
    "Testes não paramétricos - Mann-Whitney U test"
   ]
  },
  {
   "cell_type": "code",
   "execution_count": null,
   "metadata": {},
   "outputs": [],
   "source": [
    "stats.mannwhitneyu(control, cachexic)"
   ]
  },
  {
   "cell_type": "code",
   "execution_count": null,
   "metadata": {},
   "outputs": [],
   "source": [
    "metabs_de_mw = lambda x : stats.mannwhitneyu(x[meta['Muscle.loss']=='control'],x[meta['Muscle.loss']=='cachexic'])\n",
    "\n",
    "data.columns[data.apply(lambda x: metabs_de_mw(x)[1]<0.05)]"
   ]
  },
  {
   "cell_type": "markdown",
   "metadata": {},
   "source": [
    "Correções para testes múltiplos"
   ]
  },
  {
   "cell_type": "code",
   "execution_count": null,
   "metadata": {},
   "outputs": [],
   "source": [
    "pvalues_tt = data.apply(lambda x: metabs_de_tt(x)[1])\n",
    "pvalues_tt\n",
    "type(pvalues_tt)"
   ]
  },
  {
   "cell_type": "code",
   "execution_count": null,
   "metadata": {},
   "outputs": [],
   "source": [
    "import statsmodels.stats as sm\n",
    "corr_pvalues = sm.multitest.multipletests(pvalues_tt, method = \"fdr_bh\")[1]\n",
    "corr_pvalues"
   ]
  },
  {
   "cell_type": "markdown",
   "metadata": {},
   "source": [
    "### Correlações"
   ]
  },
  {
   "cell_type": "code",
   "execution_count": null,
   "metadata": {},
   "outputs": [],
   "source": [
    "data_glucose = data.Glucose\n",
    "data_sucrose = data.Sucrose\n",
    "\n",
    "plt.scatter(data_glucose, data_sucrose)\n",
    "plt.show()"
   ]
  },
  {
   "cell_type": "code",
   "execution_count": null,
   "metadata": {},
   "outputs": [],
   "source": [
    "corr, _ = stats.pearsonr(data_glucose, data_sucrose)\n",
    "corr"
   ]
  },
  {
   "cell_type": "code",
   "execution_count": null,
   "metadata": {},
   "outputs": [],
   "source": [
    "sp_corr, _ = stats.spearmanr(data_glucose, data_sucrose)\n",
    "sp_corr"
   ]
  },
  {
   "cell_type": "code",
   "execution_count": null,
   "metadata": {},
   "outputs": [],
   "source": [
    "corr_matrix = data.corr()\n",
    "corr_matrix"
   ]
  },
  {
   "cell_type": "code",
   "execution_count": null,
   "metadata": {},
   "outputs": [],
   "source": [
    "type(corr_matrix)"
   ]
  },
  {
   "cell_type": "code",
   "execution_count": null,
   "metadata": {},
   "outputs": [],
   "source": [
    "corr_matrix_sp = data.corr(method = \"spearman\")\n",
    "corr_matrix_sp"
   ]
  },
  {
   "cell_type": "code",
   "execution_count": null,
   "metadata": {},
   "outputs": [],
   "source": [
    "import seaborn as sn\n",
    "sn.heatmap(corr_matrix.iloc[1:10,1:10], annot=True)\n",
    "plt.show()"
   ]
  },
  {
   "cell_type": "code",
   "execution_count": null,
   "metadata": {},
   "outputs": [],
   "source": [
    "sn.heatmap(corr_matrix.iloc[1:20,1:20], annot=False)\n",
    "plt.show()"
   ]
  },
  {
   "cell_type": "markdown",
   "metadata": {},
   "source": [
    "Análise de variância / regressão linear"
   ]
  },
  {
   "cell_type": "code",
   "execution_count": null,
   "metadata": {},
   "outputs": [],
   "source": [
    "from statsmodels.formula.api import ols\n",
    "from statsmodels.stats.anova import anova_lm\n",
    "\n",
    "lm = ols(\"data.Leucine~data.Valine\", data).fit()\n",
    "anova_lm(lm)\n"
   ]
  },
  {
   "cell_type": "code",
   "execution_count": null,
   "metadata": {},
   "outputs": [],
   "source": [
    "lm.summary()"
   ]
  },
  {
   "cell_type": "code",
   "execution_count": null,
   "metadata": {},
   "outputs": [],
   "source": [
    "lm.rsquared"
   ]
  },
  {
   "cell_type": "code",
   "execution_count": null,
   "metadata": {},
   "outputs": [],
   "source": [
    "lm2 = ols(\"data.Leucine~data.Valine+ data.Glucose\", data).fit()"
   ]
  },
  {
   "cell_type": "code",
   "execution_count": null,
   "metadata": {},
   "outputs": [],
   "source": [
    "lm2.summary()"
   ]
  },
  {
   "cell_type": "code",
   "execution_count": null,
   "metadata": {},
   "outputs": [],
   "source": [
    "data[\"MuscleLoss\"] = meta[\"Muscle.loss\"]"
   ]
  },
  {
   "cell_type": "code",
   "execution_count": null,
   "metadata": {},
   "outputs": [],
   "source": [
    "lm3 = ols(\"data.Leucine~data.MuscleLoss\", data).fit()"
   ]
  },
  {
   "cell_type": "code",
   "execution_count": null,
   "metadata": {},
   "outputs": [],
   "source": [
    "lm3.summary()"
   ]
  },
  {
   "cell_type": "code",
   "execution_count": null,
   "metadata": {},
   "outputs": [],
   "source": []
  }
 ],
 "metadata": {
  "anaconda-cloud": {},
  "kernelspec": {
   "display_name": "Python 3",
   "language": "python",
   "name": "python3"
  },
  "language_info": {
   "codemirror_mode": {
    "name": "ipython",
    "version": 3
   },
   "file_extension": ".py",
   "mimetype": "text/x-python",
   "name": "python",
   "nbconvert_exporter": "python",
   "pygments_lexer": "ipython3",
   "version": "3.9.0"
  }
 },
 "nbformat": 4,
 "nbformat_minor": 4
}
