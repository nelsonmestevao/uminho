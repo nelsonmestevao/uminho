{
 "cells": [
  {
   "cell_type": "markdown",
   "metadata": {
    "slideshow": {
     "slide_type": "-"
    }
   },
   "source": [
    "# Matplotlib\n",
    "Exemplos de gráficos presentes nos slides"
   ]
  },
  {
   "cell_type": "code",
   "execution_count": null,
   "metadata": {},
   "outputs": [],
   "source": [
    "import numpy as np \n",
    "import pandas as pd\n",
    "import matplotlib.pyplot as plt \n",
    "\n",
    "# para desenhar os gráficos dentro do notebook\n",
    "%matplotlib inline"
   ]
  },
  {
   "cell_type": "code",
   "execution_count": null,
   "metadata": {},
   "outputs": [],
   "source": [
    "t = np.arange(0., 5., 0.2) \n",
    "plt.plot(t, t, 'r--', t, t**2, 'bs', t, \n",
    "         t**3, 'g^') \n",
    "plt.show()"
   ]
  },
  {
   "cell_type": "code",
   "execution_count": null,
   "metadata": {},
   "outputs": [],
   "source": [
    "import numpy as np \n",
    "import matplotlib.pyplot as plt \n",
    "t = np.arange(-5,5,0.2) \n",
    "plt.plot(t, t**2) \n",
    "plt.show()\n"
   ]
  },
  {
   "cell_type": "code",
   "execution_count": null,
   "metadata": {},
   "outputs": [],
   "source": [
    "x = np.random.normal(0, 1, 1000)\n",
    "# the histogram of the data\n",
    "\n",
    "plt.hist(x)\n",
    "plt.xlabel('Values')\n",
    "plt.ylabel('Probability density')\n",
    "plt.title(r'Histogram')\n",
    "plt.show()"
   ]
  },
  {
   "cell_type": "code",
   "execution_count": null,
   "metadata": {},
   "outputs": [],
   "source": [
    "ind = [1,2,3,4,5,6]\n",
    "height = [11,13,10,16,3,2]\n",
    "plt.bar(ind, height,color='g')\n",
    "plt.xticks(ind, ('G1', 'G2', 'G3','G4','G5','G6'))\n",
    "plt.show()\n"
   ]
  },
  {
   "cell_type": "code",
   "execution_count": null,
   "metadata": {},
   "outputs": [],
   "source": [
    "labels = ['Frogs', 'Hogs', 'Dogs', 'Logs']\n",
    "fracs = [15, 30, 45, 10]\n",
    "plt.pie(fracs,labels=labels,autopct='%.0f%%', \tshadow=True)\n",
    "plt.show()\n"
   ]
  },
  {
   "cell_type": "code",
   "execution_count": null,
   "metadata": {},
   "outputs": [],
   "source": [
    "d1 = np.random.random(100) * 2\n",
    "d2 = np.random.random(100) * 3\n",
    "data = [d1,d2]\n",
    "plt.boxplot(data)\n",
    "plt.xlabel(\"grupos\")\n",
    "plt.show()\n"
   ]
  },
  {
   "cell_type": "code",
   "execution_count": null,
   "metadata": {},
   "outputs": [],
   "source": [
    "x = np.linspace(0, 2 * np.pi, 400)\n",
    "y = np.sin(x ** 2)\n",
    "\n",
    "f, axarr = plt.subplots(2, sharex=True)\n",
    "axarr[0].plot(x,y)\n",
    "axarr[0].set_title('Sharing X axis')\n",
    "axarr[1].plot(y, x, color = 'r')\n",
    "\n",
    "plt.show()\n",
    "plt.gcf().clear()"
   ]
  }
 ],
 "metadata": {
  "anaconda-cloud": {},
  "kernelspec": {
   "display_name": "Python 3",
   "language": "python",
   "name": "python3"
  },
  "language_info": {
   "codemirror_mode": {
    "name": "ipython",
    "version": 3
   },
   "file_extension": ".py",
   "mimetype": "text/x-python",
   "name": "python",
   "nbconvert_exporter": "python",
   "pygments_lexer": "ipython3",
   "version": "3.9.0"
  }
 },
 "nbformat": 4,
 "nbformat_minor": 4
}
