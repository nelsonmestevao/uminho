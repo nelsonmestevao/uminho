{
 "cells": [
  {
   "cell_type": "markdown",
   "metadata": {
    "slideshow": {
     "slide_type": "-"
    }
   },
   "source": [
    "# Introdução ao Pandas\n",
    "O Pandas é um package python desenvolvido sobre o package NumPy.\n",
    "As suas principais caracteristiscas/funcionalidades são as seguintes:\n",
    "* Facilidade de lidar com dados em falta (missing data), representados como NaN;\n",
    "* Permite adicionar/remover colunas em objectos de grandes dimensões;\n",
    "* Permite o agrupamento dos dados para agregação ou transformação;\n",
    "* Facilidade em converter dados em estruturas NumPy ou Python (e.g. listas) em DataFrames;\n",
    "* Atribuição de nomes aos eixos;\n",
    "* Seleção de dados por nomes de eixos ou indexação;\n",
    "* Funções que facilitam a leitura/escrita de dados em formatos: CSV, Excel e HDF5;\n",
    "* Funções especificas para séries temporais.\n"
   ]
  },
  {
   "cell_type": "markdown",
   "metadata": {},
   "source": [
    "## Importação do package pandas \n",
    "Para ser mais simples a designação do package na chamada de funções, iremos importá-lo atribuindo-lhe a designação pd."
   ]
  },
  {
   "cell_type": "code",
   "execution_count": null,
   "metadata": {},
   "outputs": [],
   "source": [
    "import numpy as np\n",
    "import pandas as pd"
   ]
  },
  {
   "cell_type": "markdown",
   "metadata": {},
   "source": [
    "## Estruturas de dados\n",
    "\n",
    "### Series\n",
    "Array de uma dimensão que pode guardar dados de qualquer tipo. O conjunto de labels (designação de cada um dos elementos do array) é designado por *index*.\n",
    "Objetos deste tipo podem ser iniciados a partir de um dicionário, onde as chaves serão usadas como labels."
   ]
  },
  {
   "cell_type": "code",
   "execution_count": null,
   "metadata": {},
   "outputs": [],
   "source": [
    "s1 = pd.Series(np.arange(5))\n",
    "print(s1)\n",
    "print(\"------\")\n",
    "s1.index = ['a','b','c','d','e']\n",
    "s1"
   ]
  },
  {
   "cell_type": "code",
   "execution_count": null,
   "metadata": {},
   "outputs": [],
   "source": [
    "s2 = pd.Series(np.arange(1,3,0.2), index = range(10,20), name=\"serie_obj\")\n",
    "print(s2)"
   ]
  },
  {
   "cell_type": "markdown",
   "metadata": {},
   "source": [
    "#### Seleção de valores\n",
    "Os elementos do objeto Series podem ser acedidos através:\n",
    "* do uso de [ ] juntamente com o nome das labels   \n",
    "* atributo *iloc* - com base em índices (0 até tamanho objeto -1)\n",
    "* atributo *loc* - com base nas labels\n",
    "\n",
    "Considerando a série anterior, são apresentadas de seguida as 3 formas de selecionar o terceiro elemento da série (valor 2)."
   ]
  },
  {
   "cell_type": "code",
   "execution_count": null,
   "metadata": {},
   "outputs": [],
   "source": [
    "print(s1['c'])   # o tipo de dados das labels são int\n",
    "print(s1.iloc[2])\n",
    "print(s1.loc['c'])"
   ]
  },
  {
   "cell_type": "code",
   "execution_count": null,
   "metadata": {},
   "outputs": [],
   "source": [
    "print(s2[12])   # o tipo de dados das labels são int\n",
    "print(s2.iloc[2])\n",
    "print(s2.loc[12])\n",
    "\n",
    "#Nota:  s2[2] não funciona, pois não há nenhuma label com o identificador 2 "
   ]
  },
  {
   "cell_type": "markdown",
   "metadata": {},
   "source": [
    "Para selecionar intervalos de valores:"
   ]
  },
  {
   "cell_type": "code",
   "execution_count": null,
   "metadata": {},
   "outputs": [],
   "source": [
    "print(s2.loc[11:15])   # seleciona as valores em que as labels estão entre 11 e 15\n",
    "print(\"------\")\n",
    "print(s2.iloc[:6:2])   #seleciona até ao índice 6 com saltos de 2\n",
    "print(\"------\")\n",
    "print(s2.iloc[-1])     #devolve último elemento da série\n",
    "print(\"------\")\n",
    "print(s2.iloc[:-1])     #remove último elemento da série\n",
    "print(\"------\")\n",
    "print(s2)"
   ]
  },
  {
   "cell_type": "markdown",
   "metadata": {},
   "source": [
    "Para verificar se determinado elemento ou lista de elementos estão no objeto do tipo Series, pode-se usar a função *isin*."
   ]
  },
  {
   "cell_type": "code",
   "execution_count": null,
   "metadata": {},
   "outputs": [],
   "source": [
    "print(s1.loc['a':'d'])\n",
    "print(\"------\")\n",
    "print(s1.iloc[3:])"
   ]
  },
  {
   "cell_type": "code",
   "execution_count": null,
   "metadata": {},
   "outputs": [],
   "source": [
    "s1.isin([2,3])"
   ]
  },
  {
   "cell_type": "markdown",
   "metadata": {},
   "source": [
    "### DataFrame\n",
    "Um **DataFrame** é uma estrutura de dados com duas dimensões, onde as colunas podem conter diferentes tipos de dados. Estes objetos permitem a definição de labels para as linhas e colunas, tornando-se desta forma a interpretação dos dados mais simples.\n",
    "São similares às folhas de cálculo do Excel.\n",
    "\n",
    "Para uma melhor compreensão da estrutura de um DataFrame, vamos criar dois objectos do tipo Series e posteriormente contruir um DataFrame com base nessa informação."
   ]
  },
  {
   "cell_type": "code",
   "execution_count": null,
   "metadata": {},
   "outputs": [],
   "source": [
    "avg_ocean_depth = pd.Series({\n",
    "                    'Arctic': 1205,\n",
    "                    'Atlantic': 3646,\n",
    "                    'Indian': 3741,\n",
    "                    'Pacific': 4080,\n",
    "                    'Southern': 3270\n",
    "})\n",
    "\n",
    "max_ocean_depth = pd.Series({\n",
    "                    'Arctic': 5567,\n",
    "                    'Atlantic': 8486,\n",
    "                    'Indian': 7906,\n",
    "                    'Pacific': 10803,\n",
    "                    'Southern': 7075\n",
    "})\n",
    "ocean_depths = pd.DataFrame({\n",
    "                    'Avg. Depth (m)': avg_ocean_depth,\n",
    "                    'Max. Depth (m)': max_ocean_depth\n",
    "}, dtype = float)\n",
    "\n",
    "ocean_depths\n",
    "\n"
   ]
  },
  {
   "cell_type": "code",
   "execution_count": null,
   "metadata": {},
   "outputs": [],
   "source": [
    "## outra forma de criar o mesmo \n",
    "ocean_depths2 = pd.DataFrame([[1205,5567],[3646,8486],[3741,7906],[4080,10803],[3270,7075]], \n",
    "     index=['Arctic','Atlantic','Indian','Pacific','Southern'],\n",
    "     columns=['Avg. Depth (m)','Max. Depth (m)'], dtype = float)\n",
    "\n",
    "ocean_depths2\n"
   ]
  },
  {
   "cell_type": "code",
   "execution_count": null,
   "metadata": {},
   "outputs": [],
   "source": [
    "## ainda outra ... se nao especificarmos o tipo ficam valores inteiros ...\n",
    "avg_ocean_depth = [1205,3646,3741,4080,3270]\n",
    "max_ocean_depth = [5567,8486,7906,10803,7075]\n",
    "\n",
    "ocean_depths3 = pd.DataFrame({\n",
    "                    'Avg. Depth (m)': avg_ocean_depth,\n",
    "                    'Max. Depth (m)': max_ocean_depth\n",
    "},  index=['Arctic','Atlantic','Indian','Pacific','Southern'])\n",
    "\n",
    "ocean_depths3"
   ]
  },
  {
   "cell_type": "markdown",
   "metadata": {},
   "source": [
    "Para imprimir os principais atributos do objeto."
   ]
  },
  {
   "cell_type": "code",
   "execution_count": null,
   "metadata": {},
   "outputs": [],
   "source": [
    "ocean_depths.index"
   ]
  },
  {
   "cell_type": "code",
   "execution_count": null,
   "metadata": {},
   "outputs": [],
   "source": [
    "ocean_depths.columns"
   ]
  },
  {
   "cell_type": "code",
   "execution_count": null,
   "metadata": {},
   "outputs": [],
   "source": [
    "ocean_depths.dtypes"
   ]
  },
  {
   "cell_type": "code",
   "execution_count": null,
   "metadata": {},
   "outputs": [],
   "source": [
    "ocean_depths3.dtypes"
   ]
  },
  {
   "cell_type": "code",
   "execution_count": null,
   "metadata": {},
   "outputs": [],
   "source": [
    "type(ocean_depths.values)"
   ]
  },
  {
   "cell_type": "markdown",
   "metadata": {},
   "source": [
    "#### Funções \n",
    "Nesta secção, serão usadas algumas funções que podem ser aplicadas sobre objetos DataFrame,, como por exemplo:\n",
    "* head\n",
    "* tail\n",
    "* sort_values, sort_index \n",
    "* groupby\n",
    "* isnull\n",
    "* iterrows\n"
   ]
  },
  {
   "cell_type": "code",
   "execution_count": null,
   "metadata": {},
   "outputs": [],
   "source": [
    "ocean_depths.head(2)"
   ]
  },
  {
   "cell_type": "code",
   "execution_count": null,
   "metadata": {},
   "outputs": [],
   "source": [
    "ocean_depths.tail(2)"
   ]
  },
  {
   "cell_type": "code",
   "execution_count": null,
   "metadata": {},
   "outputs": [],
   "source": [
    "ocean_depths.sort_values('Avg. Depth (m)', ascending=False)"
   ]
  },
  {
   "cell_type": "code",
   "execution_count": null,
   "metadata": {},
   "outputs": [],
   "source": [
    "ocean_depths.sort_index(ascending = False)"
   ]
  },
  {
   "cell_type": "code",
   "execution_count": null,
   "metadata": {},
   "outputs": [],
   "source": [
    "ocean_depths['Frozen'] = [True, False, False, False, True]\n",
    "ocean_depths.groupby(\"Frozen\").size()"
   ]
  },
  {
   "cell_type": "code",
   "execution_count": null,
   "metadata": {},
   "outputs": [],
   "source": [
    "ocean_depths"
   ]
  },
  {
   "cell_type": "code",
   "execution_count": null,
   "metadata": {},
   "outputs": [],
   "source": [
    "ocean_depths.iloc[0,1]=np.nan  ## vamos assumir que nao sabemos este valor\n",
    "ocean_depths.isnull()"
   ]
  },
  {
   "cell_type": "markdown",
   "metadata": {},
   "source": [
    "A função *describe* é usada para que se tenha uma análise genérica sobre os dados constantes no objeto DataFrame. Esta função retorna a informação seguinte para cada coluna:\n",
    "* **count**: frequencia\n",
    "* **mean**:  média\n",
    "* **std**: desvio padrão\n",
    "* **min**: valor mínimo\n",
    "* **25%**: percentil 25\n",
    "* **50%**: percentil 50 (mediana)\n",
    "* **75%**: percentil 75\n",
    "* **max**: valor maximo"
   ]
  },
  {
   "cell_type": "code",
   "execution_count": null,
   "metadata": {},
   "outputs": [],
   "source": [
    "ocean_depths.describe() # NOTA: o elemento Nan é ignorado nas estatisticas"
   ]
  },
  {
   "cell_type": "code",
   "execution_count": null,
   "metadata": {},
   "outputs": [],
   "source": [
    "for a,b in ocean_depths.iterrows():\n",
    "    print(a) \n",
    "    print(b)\n",
    "    print(\"-------\")\n"
   ]
  },
  {
   "cell_type": "markdown",
   "metadata": {},
   "source": [
    "### Seleção de dados\n",
    "Semelhante ao apresentado anteriormente para objetos do tipo Series. Exemplos de como selecionar dados de um DataFrame."
   ]
  },
  {
   "cell_type": "code",
   "execution_count": null,
   "metadata": {},
   "outputs": [],
   "source": [
    "ocean_depths.Frozen"
   ]
  },
  {
   "cell_type": "code",
   "execution_count": null,
   "metadata": {},
   "outputs": [],
   "source": [
    "ocean_depths.loc['Atlantic':'Pacific',:]\n"
   ]
  },
  {
   "cell_type": "code",
   "execution_count": null,
   "metadata": {},
   "outputs": [],
   "source": [
    "ocean_depths.loc[:,['Frozen']] # para que a continue a ser um DataFrame, Frozen tem de estar dentro de uma lista, se não passa a ser Series\n"
   ]
  },
  {
   "cell_type": "code",
   "execution_count": null,
   "metadata": {},
   "outputs": [],
   "source": [
    "x = ocean_depths.loc[:,'Frozen']\n",
    "print(x)\n",
    "print(type(x))"
   ]
  },
  {
   "cell_type": "code",
   "execution_count": null,
   "metadata": {},
   "outputs": [],
   "source": [
    "ocean_depths.iloc[:2,:-1]"
   ]
  },
  {
   "cell_type": "code",
   "execution_count": null,
   "metadata": {},
   "outputs": [],
   "source": [
    "ocean_depths.iloc[::2,:]"
   ]
  },
  {
   "cell_type": "code",
   "execution_count": null,
   "metadata": {},
   "outputs": [],
   "source": [
    "ocean_depths[ocean_depths.Frozen == True]\n",
    "ocean_depths.Frozen == True"
   ]
  },
  {
   "cell_type": "code",
   "execution_count": null,
   "metadata": {},
   "outputs": [],
   "source": [
    "ocean_depths[ocean_depths.iloc[:,1]>7500]"
   ]
  },
  {
   "cell_type": "markdown",
   "metadata": {},
   "source": [
    "### Manipulação de DataFrame\n",
    "o Pandas disponibiliza funções que nos permite fazer alterações ao objeto como por exemplo: \n",
    "* insert, drop - adicionar e  remover dados;\n",
    "* append, combine, join, merge - permite juntar dois objetos DataFrame (ver detalhe das funções);\n",
    "* stack, unstack - alteração da estrutura que permite a hierarquização das labels"
   ]
  },
  {
   "cell_type": "code",
   "execution_count": null,
   "metadata": {},
   "outputs": [],
   "source": [
    "ocean_inf = ocean_depths.copy()\n",
    "ocean_inf.insert(loc = 2, column=\"Visited\",value = [True,False,True,False,True])\n",
    "ocean_inf"
   ]
  },
  {
   "cell_type": "code",
   "execution_count": null,
   "metadata": {},
   "outputs": [],
   "source": [
    "ocean_inf.drop(['Arctic'])\n"
   ]
  },
  {
   "cell_type": "code",
   "execution_count": null,
   "metadata": {},
   "outputs": [],
   "source": [
    "df = pd.DataFrame([[1, 2], [3, 4]], columns=list('AB'), index=['a','b'])\n",
    "df2 = pd.DataFrame([[5, 6], [7, 8]], columns=list('AB'), index=['a','b'])\n",
    "print(df)\n",
    "print(\"--------\")\n",
    "print(df2)"
   ]
  },
  {
   "cell_type": "code",
   "execution_count": null,
   "metadata": {},
   "outputs": [],
   "source": [
    "df3 = (df.append(df2))\n",
    "df3"
   ]
  },
  {
   "cell_type": "code",
   "execution_count": null,
   "metadata": {},
   "outputs": [],
   "source": [
    "df.join(df2, lsuffix='_df', rsuffix='_df2')"
   ]
  },
  {
   "cell_type": "code",
   "execution_count": 1,
   "metadata": {},
   "outputs": [
    {
     "ename": "NameError",
     "evalue": "name 'df3' is not defined",
     "output_type": "error",
     "traceback": [
      "\u001b[0;31m---------------------------------------------------------------------------\u001b[0m",
      "\u001b[0;31mNameError\u001b[0m                                 Traceback (most recent call last)",
      "\u001b[0;32m<ipython-input-1-65e21844e0cd>\u001b[0m in \u001b[0;36m<module>\u001b[0;34m\u001b[0m\n\u001b[0;32m----> 1\u001b[0;31m \u001b[0mdf3\u001b[0m\u001b[0;34m.\u001b[0m\u001b[0mloc\u001b[0m\u001b[0;34m[\u001b[0m\u001b[0;34m[\u001b[0m\u001b[0;34m\"a\"\u001b[0m\u001b[0;34m]\u001b[0m\u001b[0;34m,\u001b[0m\u001b[0;34m:\u001b[0m\u001b[0;34m]\u001b[0m\u001b[0;34m\u001b[0m\u001b[0;34m\u001b[0m\u001b[0m\n\u001b[0m",
      "\u001b[0;31mNameError\u001b[0m: name 'df3' is not defined"
     ]
    }
   ],
   "source": [
    "df3.loc[[\"a\"],:]"
   ]
  },
  {
   "cell_type": "code",
   "execution_count": null,
   "metadata": {},
   "outputs": [],
   "source": [
    "ocean_inf.stack()"
   ]
  },
  {
   "cell_type": "code",
   "execution_count": null,
   "metadata": {},
   "outputs": [],
   "source": [
    "pd.pivot_table(ocean_inf, values='Max. Depth (m)', index=['Visited'], \n",
    "               columns=['Frozen'])  "
   ]
  },
  {
   "cell_type": "markdown",
   "metadata": {},
   "source": [
    "Nota: O valor de Max Depth quando os atributos Frozen e Visited são False, é a média dos valores do dataframe original."
   ]
  },
  {
   "cell_type": "code",
   "execution_count": null,
   "metadata": {},
   "outputs": [],
   "source": [
    "#repor o df inicial\n",
    "ocean_depths.iloc[0,1] = 5567\n",
    "ocean_depths = ocean_depths.drop(labels=['Frozen'],axis=1)\n",
    "ocean_depths"
   ]
  },
  {
   "cell_type": "code",
   "execution_count": null,
   "metadata": {},
   "outputs": [],
   "source": [
    "%matplotlib inline\n",
    "import matplotlib.pyplot as plt\n",
    "plt.figure();\n",
    "ocean_depths.boxplot()"
   ]
  },
  {
   "cell_type": "code",
   "execution_count": null,
   "metadata": {},
   "outputs": [],
   "source": []
  }
 ],
 "metadata": {
  "anaconda-cloud": {},
  "kernelspec": {
   "display_name": "Python 3",
   "language": "python",
   "name": "python3"
  },
  "language_info": {
   "codemirror_mode": {
    "name": "ipython",
    "version": 3
   },
   "file_extension": ".py",
   "mimetype": "text/x-python",
   "name": "python",
   "nbconvert_exporter": "python",
   "pygments_lexer": "ipython3",
   "version": "3.9.0"
  }
 },
 "nbformat": 4,
 "nbformat_minor": 4
}
