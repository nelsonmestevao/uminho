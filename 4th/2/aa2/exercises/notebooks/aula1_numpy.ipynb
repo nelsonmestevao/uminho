{
 "cells": [
  {
   "cell_type": "markdown",
   "metadata": {
    "slideshow": {
     "slide_type": "-"
    }
   },
   "source": [
    "# Introdução ao NumPy\n",
    "NumPy é um package fundamental para a computação científica utilizando Python. Contém, entre outras coisas:\n",
    "* um poderoso objeto de matriz N-dimensional\n",
    "* funções sobre objectos do tipo matriz\n",
    "* ferramentas para integrar C / C ++ e código Fortran\n",
    "* álgebra linear, transformadas de Fourier e números aleatórios\n",
    "\n",
    "NumPy também pode ser usado para armazenar dados multidimensionais de forma eficiente, o que permite uma integração simples e rápida com uma grande variedade de bases de dados.\n",
    "\n",
    "### Arrays em Python\n",
    "A forma usual de utilizar arrays em Python é através do usos de \"[\",\"]\" em que os elementos aparecem separados por \",\"."
   ]
  },
  {
   "cell_type": "code",
   "execution_count": null,
   "metadata": {},
   "outputs": [],
   "source": [
    "alturas = [1.73, 1.89, 2.03, 1.61, 1.57, 1.90, 1.73, 1.65, 1.59, 1.65, 1.71, 1.68]\n",
    "alturas"
   ]
  },
  {
   "cell_type": "code",
   "execution_count": null,
   "metadata": {},
   "outputs": [],
   "source": [
    "type(alturas)"
   ]
  },
  {
   "cell_type": "code",
   "execution_count": null,
   "metadata": {},
   "outputs": [],
   "source": [
    "pesos = [89, 79, 110, 60, 51, 88, 68, 67, 56, 65, 85, 67]\n",
    "pesos"
   ]
  },
  {
   "cell_type": "markdown",
   "metadata": {},
   "source": [
    "### Importação do package numpy \n",
    "Para ser mais simples a designação do package na chamada de funções, iremos importá-lo atribuindo-lhe a designação np."
   ]
  },
  {
   "cell_type": "code",
   "execution_count": null,
   "metadata": {},
   "outputs": [],
   "source": [
    "import numpy as np"
   ]
  },
  {
   "cell_type": "markdown",
   "metadata": {},
   "source": [
    "### Class ndarray"
   ]
  },
  {
   "cell_type": "markdown",
   "metadata": {},
   "source": [
    "A classe do package NumPy que implementa o objecto de matriz multidomensional é designada por **ndarray**, também conhecida pelo alias **array**.\n",
    "\n",
    "Os principais atributos deste objecto são:\n",
    "* **ndarray.ndim**: indica o número de  dimensões da matrix. \n",
    "* **ndarray.shape**: indica a dimensão do objecto. Retorna um tuplo em que cada elemento contém o tamanho de cada dimensão.\n",
    "* **ndarray.size**: número de elementos do objecto\n",
    "* **ndarray.dtype**: o tipo de dados. Além dos tipos standard do Python, o package disponibiliza tipos de dados próprios (numpy.int32, numpy.int16, numpy.float64, ...).\n",
    "* **ndarray.itemsize**: tamanho em bytes de cada elemento do array.\n",
    "* **ndarray.data**: contém os elementos do array. Normalmente, o acesso aos valores do array é feito por indexação.  "
   ]
  },
  {
   "cell_type": "code",
   "execution_count": null,
   "metadata": {},
   "outputs": [],
   "source": [
    "alturas_np = np.array(alturas)\n",
    "alturas_np"
   ]
  },
  {
   "cell_type": "markdown",
   "metadata": {},
   "source": [
    "Verifica o tipo de dados do objeto alturas_np."
   ]
  },
  {
   "cell_type": "code",
   "execution_count": null,
   "metadata": {},
   "outputs": [],
   "source": [
    "type(alturas_np)"
   ]
  },
  {
   "cell_type": "markdown",
   "metadata": {},
   "source": [
    "Imprime os valores presentes em cada um dos atributos do objeto alturas_np."
   ]
  },
  {
   "cell_type": "code",
   "execution_count": null,
   "metadata": {},
   "outputs": [],
   "source": [
    "print(\"ndim: \", alturas_np.ndim)\n",
    "print(\"shape: \", alturas_np.shape)\n",
    "print(\"size: \", alturas_np.size)\n",
    "print(\"dtype: \", alturas_np.dtype)\n",
    "print(\"itemsize: \", alturas_np.itemsize)"
   ]
  },
  {
   "cell_type": "markdown",
   "metadata": {},
   "source": [
    "### Criação de arrays\n",
    "O array pode ser criado com base numa lista de valores, sendo o tipo de dados inferido com base nos valores que são passados.\n"
   ]
  },
  {
   "cell_type": "code",
   "execution_count": null,
   "metadata": {},
   "outputs": [],
   "source": [
    "print (np.array([1,2,3]).dtype)\n",
    "print (np.array([1.1,2,3]).dtype)\n",
    "print (np.array([1,2,3],complex))"
   ]
  },
  {
   "cell_type": "markdown",
   "metadata": {},
   "source": [
    "Existem funções disponíveis no package que permitem a criação de matrizes com valores especiais:\n",
    "* **zeros**: todos os valores da matriz terão o valor 0.\n",
    "* **ones**: todos os valores da matriz terão o valor 1.\n",
    "* **empty**: valores iniciais aleatórios.\n",
    "Por omissão as matrizes são criadas com o tipo de dados *float64*"
   ]
  },
  {
   "cell_type": "code",
   "execution_count": null,
   "metadata": {},
   "outputs": [],
   "source": [
    "print (np.zeros((3,4)))\n",
    "print(\"-----------\")\n",
    "print (np.ones((3,4), int))\n"
   ]
  },
  {
   "cell_type": "markdown",
   "metadata": {},
   "source": [
    "Para criar sequências de números, o package fornece a função *arange*, semelhante à função *range* do Python mas em que o resultado é um array em vez de uma lista. Os parâmetros passados à função são: valor inicial, valor final e valor de incremento. Quando, em vez do valor incremental, queremos apenas indicar o número de valores entre o inicio e o fim, é mais aconselhado usar a função *linspace*. \n",
    "As sequências podem ser convertidas em arrays através da função *reshape*."
   ]
  },
  {
   "cell_type": "code",
   "execution_count": null,
   "metadata": {},
   "outputs": [],
   "source": [
    "np.arange( 10, 30, 5 )"
   ]
  },
  {
   "cell_type": "code",
   "execution_count": null,
   "metadata": {},
   "outputs": [],
   "source": [
    "np.linspace(0,10,21)"
   ]
  },
  {
   "cell_type": "code",
   "execution_count": null,
   "metadata": {},
   "outputs": [],
   "source": [
    "np.arange(24).reshape(2,3,4)"
   ]
  },
  {
   "cell_type": "markdown",
   "metadata": {},
   "source": [
    "É ainda possível construir um array com base numa função através do uso da função *fromfunction*. No exemplo seguinte é construida uma matrix de dimensão 3x3 onde a diagnonal terá o valor booleano TRUE (uma vez que que são as únicas posições da matriz onde os índices de linha e coluna são iguais)"
   ]
  },
  {
   "cell_type": "code",
   "execution_count": null,
   "metadata": {},
   "outputs": [],
   "source": [
    "np.fromfunction(lambda i, j: i == j, (3, 3))"
   ]
  },
  {
   "cell_type": "code",
   "execution_count": null,
   "metadata": {},
   "outputs": [],
   "source": [
    "np.fromfunction(lambda i, j: i * j, (3, 3))"
   ]
  },
  {
   "cell_type": "markdown",
   "metadata": {},
   "source": [
    "### Seleção e manipulação de valores\n",
    "O acesso aos valores da matriz é efectuado através do indice de cada uma das dimensões. \n",
    "Por exemplo, numa matriz 3x4, para aceder ao 2º elemento da terceira linha faz-se mat[2,1] (os índices começam em 0).\n",
    "\n",
    "Para selecionar intervalos podemos usar \":\"."
   ]
  },
  {
   "cell_type": "code",
   "execution_count": null,
   "metadata": {},
   "outputs": [],
   "source": [
    "mat = np.random.random((3,4))\n",
    "print(mat)\n",
    "print(\"value:\", mat[2,1]) "
   ]
  },
  {
   "cell_type": "code",
   "execution_count": null,
   "metadata": {},
   "outputs": [],
   "source": [
    "mat[0:2,1:3]   #colunas 2,3 das linhas 1,2"
   ]
  },
  {
   "cell_type": "code",
   "execution_count": null,
   "metadata": {},
   "outputs": [],
   "source": [
    "v = np.arange(10) \n",
    "print(v)\n",
    "v[:3] = -1\n",
    "v"
   ]
  },
  {
   "cell_type": "markdown",
   "metadata": {},
   "source": [
    "Na seleção de elementos de um array, as reticências (**...**) são usadas para evitar a especificação de todos os elementos do tuplo de indexação. Por exemplo, se tivermos um array de dimensão 5, na seleção de elementos deveriamos indicar 5 indices para selecionar em cada dimensão. Com o uso de ... isso pode ser abreviado, conforme os exemplos seguintes demonstram.\n",
    "```python\n",
    "x[1,2,...] é equivalente a x[1,2,:,:,:]\n",
    "x[...,3]  é equivalente a x[:,:,:,:,3] \n",
    "x[4,...,5,:]  é equivalente a x[4,:,:,5,:].\n",
    "```\n"
   ]
  },
  {
   "cell_type": "markdown",
   "metadata": {},
   "source": [
    "Outra forma de selecionar valores é através de expressões que retornem valores booleanos. No exemplo seguinte selecionamos todos os valores que sejam maiores que 0.5. O resultado será um array com todos os valores da matriz que respeitem a condição."
   ]
  },
  {
   "cell_type": "code",
   "execution_count": null,
   "metadata": {},
   "outputs": [],
   "source": [
    "print(mat>0.5)\n",
    "mat[mat>0.5]"
   ]
  },
  {
   "cell_type": "markdown",
   "metadata": {},
   "source": [
    "### Operações aritméticas sobre matrizes/vectores\n",
    "\n",
    "Os operadores aritméticos são aplicados a cada um dos elementos da matriz, posição a posição. Se os arrays aos quais se aplicam operadores aritméticos tiverem dimensões distintas, o mais pequeno é usado múltiplas vezes. Se se tratar de um escalar ele é usado em todas as posições. \n",
    "\n",
    "O operador \\* representa a multiplicação elemento a elemento de arrays. Para efectuar o produto de duas matrizes usa-se a função *dot*."
   ]
  },
  {
   "cell_type": "code",
   "execution_count": null,
   "metadata": {},
   "outputs": [],
   "source": [
    "mat = np.arange(1,7).reshape(2,3)\n",
    "vet = np.array([2,4,6])\n",
    "val = 3\n",
    "\n",
    "print(\"mat =\", mat)\n",
    "print(\"vet = \", vet)"
   ]
  },
  {
   "cell_type": "code",
   "execution_count": null,
   "metadata": {},
   "outputs": [],
   "source": [
    "print (mat-mat)\n",
    "print (\"------\")\n",
    "print (mat-vet)\n",
    "print (\"------\")\n",
    "print (mat*val)"
   ]
  },
  {
   "cell_type": "code",
   "execution_count": null,
   "metadata": {},
   "outputs": [],
   "source": [
    "mat2 = np.arange(2,8).reshape(3,2)\n",
    "print(mat2)\n",
    "print (\"------\")\n",
    "print (mat*mat2.transpose())  #Nota: tem que se colocar a transposta para que as matrizes fiquem da mesma dimensão (multiplicação é feita elemento a elemento)\n",
    "print (\"------\")\n",
    "print (np.dot(mat,mat2))"
   ]
  },
  {
   "cell_type": "markdown",
   "metadata": {},
   "source": [
    "### Funções \n",
    "\n",
    "O package NumPy contém um conjunto de funções matemáticas, como  **sin**, **cos**, **sqrt**, **exp**,..., que operam sobre cada um dos elementos do array, produzindo como resultado um array de iguais dimensões."
   ]
  },
  {
   "cell_type": "code",
   "execution_count": null,
   "metadata": {},
   "outputs": [],
   "source": [
    "mat = np.linspace( 0, 20, 10 ).reshape(2,5)\n",
    "print(mat)\n",
    "np.exp(mat)"
   ]
  },
  {
   "cell_type": "markdown",
   "metadata": {},
   "source": [
    "Funções que podem ser aplicadas sobre uma matriz multidimensional, como por exemplo **sum**, **min**, **max**,**mean** **cumsum**,...,  estão implementadas ao nível da class *ndarray*.\n",
    "Por omissão, estas funções são aplicadas como se a matriz fosse um vetor, ou seja à totalidade dos elementos independentemente da sua posição. \n",
    "Porém, é possível aplicar a uma determinada dimensão através da especificação do parâmetro *axis*."
   ]
  },
  {
   "cell_type": "code",
   "execution_count": null,
   "metadata": {},
   "outputs": [],
   "source": [
    "print (mat.max())\n",
    "print (mat.min())\n",
    "print (mat.max(axis=0))  # calcula o máximo de cada uma das colunas\n",
    "print (mat.max(axis=1))  # calcula o máximo de cada uma das linhas"
   ]
  },
  {
   "cell_type": "markdown",
   "metadata": {},
   "source": [
    "Outras funções úteis:\n",
    "* **ravel**: converte uma matriz multidimensional num array 1D.\n",
    "* **floor**: converte cada um dos elementos x da matriz para o maior número inteiro i, onde i<= x."
   ]
  },
  {
   "cell_type": "code",
   "execution_count": null,
   "metadata": {},
   "outputs": [],
   "source": [
    "a = np.array([[1.2,-0.3],[1.9,-2.4]])\n",
    "print (np.ravel(a))\n",
    "print (\"-------\")\n",
    "print (np.floor(a))"
   ]
  },
  {
   "cell_type": "markdown",
   "metadata": {},
   "source": [
    "### Stacking e Splicing \n",
    "O package NumPy fornece funções que tornam o processo de juntar matrizes, ou dividir uma matriz em matrizes mais pequenas, simples.\n",
    "Para o efeito existem as funções:\n",
    "* **vstack**: junta os arrays horizontalmente, isto é o número de colunas é aumentado (**column_stack** tem o mesmo comportamento, usado para arrays com 1 dimensão).\n",
    "* **hstack**: junta os arrays verticalmente, isto é o número de linhas é aumentado.\n",
    "* **concatenate**: adiciona os arrays segundo a dimensão (axis) dada pelo utilizador.\n",
    "* **vsplit**: parte um array em sub-arrays de tamanho igual, mantendo o número de colunas. \n",
    "* **hsplit**: parte um array em sub-arrays de tamanho igual, mantendo o número de linhas. \n",
    "* **array_split**: divide o array segundo a dimensão (axis) dada pelo utilizador.\n",
    "\n",
    "**Nota**: Se os arrays resultantes não tiverem o mesmo tamanho, a divisão terá de ser realizada por indicação do índice onde o \"corte\" deve ocorrer. Nas funções **hstack** e **vstack** as dimensões dos arrays devem ser iguais."
   ]
  },
  {
   "cell_type": "code",
   "execution_count": null,
   "metadata": {},
   "outputs": [],
   "source": [
    "a = np.arange(6).reshape(2, 3)\n",
    "\n",
    "b = np.arange(6,12).reshape(2, 3)\n",
    "print (a)\n",
    "print (b)\n"
   ]
  },
  {
   "cell_type": "code",
   "execution_count": null,
   "metadata": {},
   "outputs": [],
   "source": [
    "np.hstack((a,b))"
   ]
  },
  {
   "cell_type": "code",
   "execution_count": null,
   "metadata": {},
   "outputs": [],
   "source": [
    "np.vstack((a,b))"
   ]
  },
  {
   "cell_type": "code",
   "execution_count": null,
   "metadata": {},
   "outputs": [],
   "source": [
    "np.vsplit(a,2)"
   ]
  },
  {
   "cell_type": "code",
   "execution_count": null,
   "metadata": {},
   "outputs": [],
   "source": [
    "np.hsplit(a, 2)   # não funciona porque os sub-arrays resultantes serão de tamanho diferente"
   ]
  },
  {
   "cell_type": "markdown",
   "metadata": {},
   "source": [
    "### Cópia e Vista\n",
    "Quando se manipulam arrays nem sempre o objeto é copiado para um novo objeto. Frequentemente podemos ter mais do que uma variável a apontar para o mesmo objeto."
   ]
  },
  {
   "cell_type": "code",
   "execution_count": null,
   "metadata": {},
   "outputs": [],
   "source": [
    "a = np.arange(12).reshape(2,6)\n",
    "a"
   ]
  },
  {
   "cell_type": "code",
   "execution_count": null,
   "metadata": {},
   "outputs": [],
   "source": [
    "b = a\n",
    "b.shape=3,4\n",
    "a"
   ]
  },
  {
   "cell_type": "markdown",
   "metadata": {},
   "source": [
    "O método **view** cria um novo objeto to tipo array mas que olha para a mesma informação."
   ]
  },
  {
   "cell_type": "code",
   "execution_count": null,
   "metadata": {},
   "outputs": [],
   "source": [
    "print (a is b)\n",
    "c = a.view()\n",
    "print (c is a)"
   ]
  },
  {
   "cell_type": "code",
   "execution_count": null,
   "metadata": {},
   "outputs": [],
   "source": [
    "c.shape = 2,6  \n",
    "print(c)\n",
    "print (a.shape)\n",
    "print(a)"
   ]
  },
  {
   "cell_type": "code",
   "execution_count": null,
   "metadata": {},
   "outputs": [],
   "source": [
    "c[0,4] = 1234\n",
    "c"
   ]
  },
  {
   "cell_type": "code",
   "execution_count": null,
   "metadata": {},
   "outputs": [],
   "source": [
    "a"
   ]
  },
  {
   "cell_type": "markdown",
   "metadata": {},
   "source": [
    "Para criar uma copia de um objecto array, existe o método **copy** que permite manipular e alterar de forma independente os dois arrays (original e cópia)"
   ]
  },
  {
   "cell_type": "code",
   "execution_count": null,
   "metadata": {},
   "outputs": [],
   "source": [
    "d = a.copy()\n",
    "d[0,0]=1000\n",
    "d"
   ]
  },
  {
   "cell_type": "code",
   "execution_count": null,
   "metadata": {},
   "outputs": [],
   "source": [
    "a"
   ]
  },
  {
   "cell_type": "markdown",
   "metadata": {},
   "source": [
    "### Algebra Linear - conceitos básicos\n",
    "O package Numpy disponibiliza as principais funções de algebra linear disponíveis, nomeadamente:\n",
    "* **transpose**: calcula a transporta de uma matriz;\n",
    "* **linalg.det**: calcula o determinante de uma matriz;\n",
    "* **linalg.inv**: calcula a inversa de uma matriz;\n",
    "* **eye**/**identity**: retorna a matriz identidade;\n",
    "* **linalg.solve**: resolve sistemas de equações lineares.\n",
    "\n",
    "Como exemplo do uso de uma função do módulo *linalg*, resolve o sistema de equações lineares\n",
    "```python\n",
    "3 * x0 + x1 = 9 \n",
    "x0 + 2 * x1 = 8\n",
    "```"
   ]
  },
  {
   "cell_type": "code",
   "execution_count": null,
   "metadata": {},
   "outputs": [],
   "source": [
    "a = np.array([[3,1], [1,2]])\n",
    "b = np.array([9,8])\n",
    "x = np.linalg.solve(a, b)\n",
    "x"
   ]
  },
  {
   "cell_type": "code",
   "execution_count": null,
   "metadata": {},
   "outputs": [],
   "source": [
    "np.linalg.det(a)"
   ]
  },
  {
   "cell_type": "code",
   "execution_count": null,
   "metadata": {},
   "outputs": [],
   "source": [
    "np.linalg.inv(a)"
   ]
  },
  {
   "cell_type": "code",
   "execution_count": null,
   "metadata": {},
   "outputs": [],
   "source": [
    "np.eye(4)"
   ]
  },
  {
   "cell_type": "code",
   "execution_count": null,
   "metadata": {},
   "outputs": [],
   "source": [
    "print(a)\n",
    "np.eye(2).dot(a)"
   ]
  },
  {
   "cell_type": "markdown",
   "metadata": {},
   "source": [
    "### Exemplo das vantagens de vetorização"
   ]
  },
  {
   "cell_type": "code",
   "execution_count": null,
   "metadata": {},
   "outputs": [],
   "source": [
    "import time\n",
    "\n",
    "dim = 1000000\n",
    "\n",
    "a = np.random.rand(dim)\n",
    "b = np.random.rand(dim)\n",
    "\n",
    "ini_for = time.time()\n",
    "\n",
    "res_for = 0.0\n",
    "for i in range(dim):\n",
    "    res_for += a[i]* b[i]\n",
    "    \n",
    "time_for = time.time() - ini_for\n",
    "\n",
    "print(\"Result: \", res_for)\n",
    "print(\"Time for: \", time_for* 1000, \" ms\")"
   ]
  },
  {
   "cell_type": "code",
   "execution_count": null,
   "metadata": {},
   "outputs": [],
   "source": [
    "ini = time.time()\n",
    "res_vect = np.dot(a, b)\n",
    "time_vect = time.time() - ini\n",
    "\n",
    "print(\"Result: \", res_vect)\n",
    "print(\"Time vectorized: \", time_vect* 1000, \" ms\")"
   ]
  },
  {
   "cell_type": "code",
   "execution_count": null,
   "metadata": {},
   "outputs": [],
   "source": []
  }
 ],
 "metadata": {
  "anaconda-cloud": {},
  "kernelspec": {
   "display_name": "Python 3",
   "language": "python",
   "name": "python3"
  },
  "language_info": {
   "codemirror_mode": {
    "name": "ipython",
    "version": 3
   },
   "file_extension": ".py",
   "mimetype": "text/x-python",
   "name": "python",
   "nbconvert_exporter": "python",
   "pygments_lexer": "ipython3",
   "version": "3.9.0"
  }
 },
 "nbformat": 4,
 "nbformat_minor": 4
}
