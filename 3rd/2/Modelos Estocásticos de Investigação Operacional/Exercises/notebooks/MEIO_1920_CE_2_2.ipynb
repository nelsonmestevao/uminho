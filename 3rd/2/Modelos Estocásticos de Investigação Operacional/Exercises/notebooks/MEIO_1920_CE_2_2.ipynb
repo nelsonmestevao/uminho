{
 "cells": [
  {
   "cell_type": "markdown",
   "metadata": {},
   "source": [
    "# Filas de Espera **_M/M/1_, decisão**"
   ]
  },
  {
   "cell_type": "markdown",
   "metadata": {},
   "source": [
    "## Exercício 2.2"
   ]
  },
  {
   "cell_type": "markdown",
   "metadata": {},
   "source": [
    "**_Um operador foi contratadopara reparar máquinas que avariam a uma taxa média de três por hora. As avarias seguem uma distribuição  no  tempo que pode ser considerada do  tipo Poissoniana. O tempo não produtivo em qualquer máquina está avaliado como um custo aproximado de 5 U.M. por hora._**"
   ]
  },
  {
   "cell_type": "markdown",
   "metadata": {},
   "source": [
    "**_Dispõe-se de dois métodos de reparação. O método A é um método lento que custa 3 U.M./hora e que permite reparar uma máquina num tempo exponencialmente distribuído com média igual a 15 minutos. O método B é semelhante ao anterior mas mais rápido, custa 5 U.M./hora e permite reparar uma máquina num tempo médio de apenas 10 minutos._**"
   ]
  },
  {
   "cell_type": "markdown",
   "metadata": {},
   "source": [
    "**_Supondo que o operador estará habilitado a usar qualquer um dos dois métodos de reparação, qual deles lhe recomendaque implemente?_**"
   ]
  },
  {
   "cell_type": "markdown",
   "metadata": {},
   "source": [
    "Sistemas _M/M/1_, $s = 1$\n",
    "\n",
    "$\\lambda = 3$ avarias/hora\n",
    "\n",
    "Custo: 5 U.M / hora / máquina"
   ]
  },
  {
   "cell_type": "code",
   "execution_count": 1,
   "metadata": {},
   "outputs": [],
   "source": [
    "y = 3\n",
    "\n",
    "custo = 5"
   ]
  },
  {
   "cell_type": "markdown",
   "metadata": {},
   "source": [
    "**Método A**\n",
    "\n",
    "Custo: 3 U.M / hora\n",
    "\n",
    "$\\frac{1}{\\mu} = 15$ minutos"
   ]
  },
  {
   "cell_type": "code",
   "execution_count": 2,
   "metadata": {},
   "outputs": [
    {
     "data": {
      "text/plain": [
       "4.0"
      ]
     },
     "execution_count": 2,
     "metadata": {},
     "output_type": "execute_result"
    }
   ],
   "source": [
    "custo_a = 3 # U.M / hora\n",
    "u_a = 1 / 15 * 60; u_a # máquinas por hora"
   ]
  },
  {
   "cell_type": "markdown",
   "metadata": {},
   "source": [
    "**Método B**\n",
    "\n",
    "Custo: 5 U.M/hora\n",
    "\n",
    "$\\frac{1}{\\mu} = 10$ minutos"
   ]
  },
  {
   "cell_type": "code",
   "execution_count": 3,
   "metadata": {},
   "outputs": [
    {
     "data": {
      "text/plain": [
       "6.0"
      ]
     },
     "execution_count": 3,
     "metadata": {},
     "output_type": "execute_result"
    }
   ],
   "source": [
    "custo_b = 5 # U.M / hora\n",
    "u_b = 1 / 10 * 60; u_b # máquinas por hora"
   ]
  },
  {
   "cell_type": "markdown",
   "metadata": {},
   "source": [
    "Considerando que os custos de reparação são devidos apenas para períodos de atividade do mecânico.\n",
    "\n",
    "$Custo_{total} = \\rho \\times Custo\\ de\\ reparacao + L \\times Custo\\ da\\ maquina\\ parada$\n",
    "\n",
    "ou\n",
    "\n",
    "$Custo_{total} = \\rho \\times Custo\\ de\\ reparacao + W \\times \\lambda \\times Custo\\ da\\ maquina\\ parada$\n",
    "\n",
    "porque $L = \\lambda W$"
   ]
  },
  {
   "cell_type": "code",
   "execution_count": 4,
   "metadata": {},
   "outputs": [],
   "source": [
    "ró_a = y / u_a\n",
    "ró_b = y / u_b\n",
    "\n",
    "L_a = ró_a / (1 - ró_a)\n",
    "L_b = ró_b / (1 - ró_b)"
   ]
  },
  {
   "cell_type": "code",
   "execution_count": 5,
   "metadata": {},
   "outputs": [
    {
     "data": {
      "text/plain": [
       "17.25"
      ]
     },
     "execution_count": 5,
     "metadata": {},
     "output_type": "execute_result"
    }
   ],
   "source": [
    "# A\n",
    "ró_a * custo_a + L_a * custo"
   ]
  },
  {
   "cell_type": "code",
   "execution_count": 6,
   "metadata": {},
   "outputs": [
    {
     "data": {
      "text/plain": [
       "7.5"
      ]
     },
     "execution_count": 6,
     "metadata": {},
     "output_type": "execute_result"
    }
   ],
   "source": [
    "# B\n",
    "ró_b * custo_b + L_b * custo"
   ]
  },
  {
   "cell_type": "markdown",
   "metadata": {},
   "source": [
    "Devemos escolher o método B porque $7.5 < 17.25$."
   ]
  }
 ],
 "metadata": {
  "authors": [
   {
    "name": "Nelson Estevão"
   }
  ],
  "kernelspec": {
   "display_name": "Python 3",
   "language": "python",
   "name": "python3"
  },
  "language_info": {
   "codemirror_mode": {
    "name": "ipython",
    "version": 3
   },
   "file_extension": ".py",
   "mimetype": "text/x-python",
   "name": "python",
   "nbconvert_exporter": "python",
   "pygments_lexer": "ipython3",
   "version": "3.8.3"
  },
  "title": "Modelos Estocásticos de Investigação Operacional"
 },
 "nbformat": 4,
 "nbformat_minor": 4
}
