{
 "cells": [
  {
   "cell_type": "markdown",
   "metadata": {},
   "source": [
    "# Modelo de Nível de Encomenda - Sistema $(C_1, C_2)$"
   ]
  },
  {
   "cell_type": "markdown",
   "metadata": {},
   "source": [
    "## Exercício 3.5"
   ]
  },
  {
   "cell_type": "markdown",
   "metadata": {},
   "source": [
    "**_O inventário de um artigo, de custo 5 euros por unidade, deve ser controlado utilizando uma política de nível de encomenda._**\n",
    "\n",
    "**_A procura anual é estimada em 1200 artigos, com uma distribuição da procura durante o prazo de entrega indicada na tabela seguinte._**"
   ]
  },
  {
   "cell_type": "markdown",
   "metadata": {},
   "source": [
    "| Procura no Prazo de Entrega | 43   | 44   | 45   | 46   | 47   | 48   | 49   | 50   | 51   | 52   | 53   | 54   | 55   | 56   | 57   |\n",
    "|-----------------------------|------|------|------|------|------|------|------|------|------|------|------|------|------|------|------|\n",
    "| $p(x)$                      | 0.01 | 0.02 | 0.03 | 0.05 | 0.08 | 0.11 | 0.13 | 0.14 | 0.13 | 0.11 | 0.08 | 0.05 | 0.03 | 0.02 | 0.01 |"
   ]
  },
  {
   "cell_type": "markdown",
   "metadata": {},
   "source": [
    "**_Se a taxa anual de posse de inventário for $30%$ do preço de compra, e o custo de passagem de encomenda for de $14.10$ euros, determine os parâmetros da referida política nos seguintes casos._**"
   ]
  },
  {
   "cell_type": "markdown",
   "metadata": {},
   "source": [
    "$b:$ valor unitário do artigo\n",
    "\n",
    "$r:$ procura anual\n",
    "\n",
    "$i:$ taxa de juro\n",
    "\n",
    "$C_1:$ custo de existência\n",
    "\n",
    "$C_2:$ custo ocurrência de quebra\n",
    "\n",
    "$C_3:$ custo de passagem de encomenda"
   ]
  },
  {
   "cell_type": "code",
   "execution_count": 1,
   "metadata": {},
   "outputs": [],
   "source": [
    "b = 5 # euros/unidade\n",
    "r = 1200 # artigos/ano\n",
    "i = 0.3 # %/ano"
   ]
  },
  {
   "cell_type": "code",
   "execution_count": 2,
   "metadata": {},
   "outputs": [
    {
     "data": {
      "text/plain": [
       "1.5"
      ]
     },
     "execution_count": 2,
     "metadata": {},
     "output_type": "execute_result"
    }
   ],
   "source": [
    "C_1 = i * b; C_1 # euros / artigo / ano"
   ]
  },
  {
   "cell_type": "code",
   "execution_count": 3,
   "metadata": {},
   "outputs": [],
   "source": [
    "C_3 = 14.1 # euros / encomenda"
   ]
  },
  {
   "cell_type": "markdown",
   "metadata": {},
   "source": [
    "Calcular a probabilidade de haver quebra por ciclo de encomenda: P[DDLT > S]\n",
    "\n",
    "$P[DDLT > S] = P[DDLT > S + 1] + P[DDLT = S + 1]$\n",
    "\n",
    "Calcular a esperança de quebra: E[DDLT > S]\n",
    "\n",
    "$E[DDLT > S] = E[DDLT > S + 1] + P[DDLT > S]$"
   ]
  },
  {
   "cell_type": "markdown",
   "metadata": {},
   "source": [
    "Criar a tabela:\n",
    "\n",
    "| S | P[DDLT = S] | P[DDLT > S] | E[DDLT > S] |\n",
    "|-|-|-|-|\n",
    "| 50 | | | |\n",
    "| 51 | | | |\n",
    "| 52 | | | |\n",
    "| 53 | | | |\n",
    "| 54 | | | |\n",
    "| 55 | | | |\n",
    "| 56 | | | |\n",
    "| 57 | | | |"
   ]
  },
  {
   "cell_type": "markdown",
   "metadata": {},
   "source": [
    "1. A gestão especifica que o artigo não deve sofrer quebra de inventário mais do que uma vez por ano."
   ]
  },
  {
   "cell_type": "markdown",
   "metadata": {},
   "source": [
    "$QEE = q^{*} = \\sqrt{ \\frac{2rC_3}{C_1} }$"
   ]
  },
  {
   "cell_type": "code",
   "execution_count": 4,
   "metadata": {},
   "outputs": [
    {
     "data": {
      "text/plain": [
       "150"
      ]
     },
     "execution_count": 4,
     "metadata": {},
     "output_type": "execute_result"
    }
   ],
   "source": [
    "from math import sqrt, floor\n",
    "q = sqrt((2 * r * C_3) / C_1);\n",
    "\n",
    "floor(q) # unidades / encomenda"
   ]
  },
  {
   "cell_type": "markdown",
   "metadata": {},
   "source": [
    "Número médio de situações de quebra por ano: $\\frac{r}{q} \\cdot P[DDLT > S]$\n",
    "\n",
    "Número médio de situações de quebra por ano deve ser menor do que 1!\n",
    "\n",
    "$\\frac{r}{q} \\cdot P[DDLT > S] \\leq 1$"
   ]
  },
  {
   "cell_type": "code",
   "execution_count": 5,
   "metadata": {},
   "outputs": [
    {
     "data": {
      "text/plain": [
       "0.1252"
      ]
     },
     "execution_count": 5,
     "metadata": {},
     "output_type": "execute_result"
    }
   ],
   "source": [
    "round(1 * (q / r), 4) # P[DDLT > S]"
   ]
  },
  {
   "cell_type": "markdown",
   "metadata": {},
   "source": [
    "Determinal qual o valor de nível de encomenda (S) que probabilidade de quebra é inferior a $0.125$? $S=53$ (consulta da tabela)\n",
    "\n",
    "**R:** deverão ser encomendadas **150** unidades (q) e o Nível de encomenda deverá ser de **53** (S) para que o artigo **não sofra quebra mais do que 1x no ano**."
   ]
  },
  {
   "cell_type": "markdown",
   "metadata": {},
   "source": [
    "2. Estudos indicam que cada vez que há quebra, se verifica um custo fixo de 4 euros."
   ]
  },
  {
   "cell_type": "code",
   "execution_count": 6,
   "metadata": {},
   "outputs": [],
   "source": [
    "C_2 = 4"
   ]
  },
  {
   "cell_type": "markdown",
   "metadata": {},
   "source": [
    "3. Estudos indicam que se verifica um custo de 1 euro por cada artigo em atraso."
   ]
  }
 ],
 "metadata": {
  "authors": [
   {
    "name": "Nelson Estevão"
   }
  ],
  "kernelspec": {
   "display_name": "Python 3",
   "language": "python",
   "name": "python3"
  },
  "language_info": {
   "codemirror_mode": {
    "name": "ipython",
    "version": 3
   },
   "file_extension": ".py",
   "mimetype": "text/x-python",
   "name": "python",
   "nbconvert_exporter": "python",
   "pygments_lexer": "ipython3",
   "version": "3.8.3"
  },
  "title": "Modelos Estocásticos de Investigação Operacional"
 },
 "nbformat": 4,
 "nbformat_minor": 4
}
