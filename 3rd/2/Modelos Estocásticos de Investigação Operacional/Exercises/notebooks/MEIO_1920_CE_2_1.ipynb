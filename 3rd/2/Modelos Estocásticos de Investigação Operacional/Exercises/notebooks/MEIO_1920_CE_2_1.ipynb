{
 "cells": [
  {
   "cell_type": "markdown",
   "metadata": {},
   "source": [
    "# Filas de Espera _**M/M/1**_"
   ]
  },
  {
   "cell_type": "markdown",
   "metadata": {},
   "source": [
    "## Exercício 2.1"
   ]
  },
  {
   "cell_type": "markdown",
   "metadata": {},
   "source": [
    "**_Num  supermercado, o  modelo  de  chegadas  segue  aproximadamente uma distribuição de Poisson com uma taxa média de 10 clientes por hora. O tempo médio que leva a listar e calcular o total das compras do cliente  na (única) caixa  é  4.5 minutos, e pode  dizer-se  que esse  tempo  segue  uma  distribuição  exponencial negativa._**"
   ]
  },
  {
   "cell_type": "markdown",
   "metadata": {},
   "source": [
    "Sistema _M/M/1_, $s = 1$ (caixa única)\n",
    "\n",
    "$\\lambda = 10$ (clientes/hora)\n",
    "\n",
    "$\\frac{1}{\\mu} = 4.5$ minutos\n",
    "\n",
    "$\\mu = \\frac{1}{4.5} \\times 60 = 13.3(3)$ (clientes/hora)"
   ]
  },
  {
   "cell_type": "markdown",
   "metadata": {},
   "source": [
    "1. A probabilidade de a caixa estar ocupada;"
   ]
  },
  {
   "cell_type": "code",
   "execution_count": 1,
   "metadata": {},
   "outputs": [
    {
     "data": {
      "text/plain": [
       "0.7500000000000001"
      ]
     },
     "execution_count": 1,
     "metadata": {},
     "output_type": "execute_result"
    }
   ],
   "source": [
    "y = 10\n",
    "u = 1/4.5 * 60\n",
    "\n",
    "ró = y / u; ró"
   ]
  },
  {
   "cell_type": "markdown",
   "metadata": {},
   "source": [
    "2. A probabilidade de se formar uma fila;"
   ]
  },
  {
   "cell_type": "markdown",
   "metadata": {},
   "source": [
    "$P(x > 1) = \\rho ^{1+1}$ [slides pág. 66 (p.18)]"
   ]
  },
  {
   "cell_type": "code",
   "execution_count": 2,
   "metadata": {},
   "outputs": [
    {
     "data": {
      "text/plain": [
       "0.5625"
      ]
     },
     "execution_count": 2,
     "metadata": {},
     "output_type": "execute_result"
    }
   ],
   "source": [
    "round(ró ** 2, 5)"
   ]
  },
  {
   "cell_type": "markdown",
   "metadata": {},
   "source": [
    "3. A probabilidade de o número de pessoas na fila exceder cinco;"
   ]
  },
  {
   "cell_type": "markdown",
   "metadata": {},
   "source": [
    "$P(x > 5) = \\rho ^{5+2}$ [slides pág. 67 (p.19)]"
   ]
  },
  {
   "cell_type": "code",
   "execution_count": 3,
   "metadata": {},
   "outputs": [
    {
     "data": {
      "text/plain": [
       "0.1335"
      ]
     },
     "execution_count": 3,
     "metadata": {},
     "output_type": "execute_result"
    }
   ],
   "source": [
    "round(ró ** 7, 4)"
   ]
  },
  {
   "cell_type": "markdown",
   "metadata": {},
   "source": [
    "4. O comprimento médio da fila, e o número médio de clientes no sistema;"
   ]
  },
  {
   "cell_type": "markdown",
   "metadata": {},
   "source": [
    "$L_q = \\frac{ \\rho ^ 2} {1 - \\rho}$ clientes na fila"
   ]
  },
  {
   "cell_type": "code",
   "execution_count": 4,
   "metadata": {},
   "outputs": [
    {
     "data": {
      "text/plain": [
       "2.25"
      ]
     },
     "execution_count": 4,
     "metadata": {},
     "output_type": "execute_result"
    }
   ],
   "source": [
    "Lq = (ró ** 2) / (1 - ró)\n",
    "round(Lq, 4)"
   ]
  },
  {
   "cell_type": "markdown",
   "metadata": {},
   "source": [
    "$L = \\frac{\\rho}{1-\\rho}$ clientes no sistema"
   ]
  },
  {
   "cell_type": "code",
   "execution_count": 5,
   "metadata": {},
   "outputs": [
    {
     "data": {
      "text/plain": [
       "3.0"
      ]
     },
     "execution_count": 5,
     "metadata": {},
     "output_type": "execute_result"
    }
   ],
   "source": [
    "L = ró / (1 - ró)\n",
    "round(L, 4)"
   ]
  },
  {
   "cell_type": "markdown",
   "metadata": {},
   "source": [
    "5. O tempo médio de espera de um cliente (na fila), e no sistema (fila+caixa)."
   ]
  },
  {
   "cell_type": "markdown",
   "metadata": {},
   "source": [
    "$W_q = \\frac{L_q}{\\lambda}$ minutos à espera na fila [slides pág.74 (p.26)]"
   ]
  },
  {
   "cell_type": "code",
   "execution_count": 6,
   "metadata": {},
   "outputs": [
    {
     "data": {
      "text/plain": [
       "13.5"
      ]
     },
     "execution_count": 6,
     "metadata": {},
     "output_type": "execute_result"
    }
   ],
   "source": [
    "Wq = Lq / y\n",
    "\n",
    "round(Wq, 4) * 60 # em minutos"
   ]
  },
  {
   "cell_type": "markdown",
   "metadata": {},
   "source": [
    "$W = W_q + \\frac{1}{\\mu} = \\frac{L}{\\lambda}$ à espera no sistema (fila + caixa)"
   ]
  },
  {
   "cell_type": "code",
   "execution_count": 7,
   "metadata": {},
   "outputs": [
    {
     "data": {
      "text/plain": [
       "18.0"
      ]
     },
     "execution_count": 7,
     "metadata": {},
     "output_type": "execute_result"
    }
   ],
   "source": [
    "W = L / y\n",
    "\n",
    "round(W, 4) * 60 # em minutos"
   ]
  },
  {
   "cell_type": "markdown",
   "metadata": {},
   "source": [
    "6. Se, pela aplicação das técnicas de estudo do trabalho, o valor médio do tempo de serviço for reduzidopara  4  minutos,  quanto  tempo  deverão,  em  média,  esperar  os  clientes  no  sistema,  e  qual  aprobabilidade de um cliente ter que esperar mais do que 10 minutos para ser atendido?"
   ]
  },
  {
   "cell_type": "code",
   "execution_count": 8,
   "metadata": {},
   "outputs": [],
   "source": [
    "u_ = (1 / 4) * 60\n",
    "ró_ = y / u_"
   ]
  },
  {
   "cell_type": "code",
   "execution_count": 9,
   "metadata": {},
   "outputs": [
    {
     "data": {
      "text/plain": [
       "12.0"
      ]
     },
     "execution_count": 9,
     "metadata": {},
     "output_type": "execute_result"
    }
   ],
   "source": [
    "W = 1 / (u_ - y)\n",
    "\n",
    "round(W, 4) * 60 # em minutos"
   ]
  },
  {
   "cell_type": "markdown",
   "metadata": {},
   "source": [
    "$P(W_q > t) = \\rho e ^ {-\\mu(1-\\rho)t}, t \\geq 0$ [slides pág.74 (p.26)]"
   ]
  },
  {
   "cell_type": "code",
   "execution_count": 10,
   "metadata": {},
   "outputs": [
    {
     "data": {
      "text/plain": [
       "0.2897"
      ]
     },
     "execution_count": 10,
     "metadata": {},
     "output_type": "execute_result"
    }
   ],
   "source": [
    "from math import e\n",
    "t = 10 / 60 # em horas\n",
    "espera = ró_ * e ** (-u_ * (1 - ró_) * t)\n",
    "\n",
    "round(espera, 4) # em %"
   ]
  }
 ],
 "metadata": {
  "authors": [
   {
    "name": "Nelson Estevão"
   }
  ],
  "kernelspec": {
   "display_name": "Python 3",
   "language": "python",
   "name": "python3"
  },
  "language_info": {
   "codemirror_mode": {
    "name": "ipython",
    "version": 3
   },
   "file_extension": ".py",
   "mimetype": "text/x-python",
   "name": "python",
   "nbconvert_exporter": "python",
   "pygments_lexer": "ipython3",
   "version": "3.8.3"
  },
  "title": "Modelos Estocásticos de Investigação Operacional"
 },
 "nbformat": 4,
 "nbformat_minor": 4
}
