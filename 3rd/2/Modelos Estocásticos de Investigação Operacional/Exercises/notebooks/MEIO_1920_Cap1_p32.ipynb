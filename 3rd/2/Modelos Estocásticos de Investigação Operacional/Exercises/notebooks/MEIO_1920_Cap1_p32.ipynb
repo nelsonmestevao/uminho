{
 "cells": [
  {
   "cell_type": "code",
   "execution_count": 1,
   "metadata": {},
   "outputs": [],
   "source": [
    "import numpy as np"
   ]
  },
  {
   "cell_type": "markdown",
   "metadata": {},
   "source": [
    "# Cadeias com estados absorventes"
   ]
  },
  {
   "cell_type": "markdown",
   "metadata": {},
   "source": [
    "## Exemplo de aplicação (pag. 32) [resolvido]"
   ]
  },
  {
   "cell_type": "code",
   "execution_count": 2,
   "metadata": {},
   "outputs": [
    {
     "data": {
      "text/plain": [
       "array([[0.8 , 0.15, 0.  ],\n",
       "       [0.  , 0.7 , 0.2 ],\n",
       "       [0.  , 0.  , 0.95]])"
      ]
     },
     "execution_count": 2,
     "metadata": {},
     "output_type": "execute_result"
    }
   ],
   "source": [
    "Q = np.array([[0.8, 0.15, 0],[0, 0.7, 0.2], [0, 0, 0.95]]); Q"
   ]
  },
  {
   "cell_type": "code",
   "execution_count": 3,
   "metadata": {},
   "outputs": [
    {
     "data": {
      "text/plain": [
       "array([[0.05],\n",
       "       [0.1 ],\n",
       "       [0.05]])"
      ]
     },
     "execution_count": 3,
     "metadata": {},
     "output_type": "execute_result"
    }
   ],
   "source": [
    "R = np.array([[0.05], [0.10], [0.05]]); R"
   ]
  },
  {
   "cell_type": "code",
   "execution_count": 4,
   "metadata": {},
   "outputs": [
    {
     "data": {
      "text/plain": [
       "array([[1., 0., 0.],\n",
       "       [0., 1., 0.],\n",
       "       [0., 0., 1.]])"
      ]
     },
     "execution_count": 4,
     "metadata": {},
     "output_type": "execute_result"
    }
   ],
   "source": [
    "I = np.identity(3)\n",
    "I"
   ]
  },
  {
   "cell_type": "markdown",
   "metadata": {},
   "source": [
    "1. Em média, durante quanto tempo um estagiário permanece na empresa?"
   ]
  },
  {
   "cell_type": "code",
   "execution_count": 5,
   "metadata": {},
   "outputs": [
    {
     "data": {
      "text/plain": [
       "matrix([[ 5.        ,  2.5       , 10.        ],\n",
       "        [ 0.        ,  3.33333333, 13.33333333],\n",
       "        [ 0.        ,  0.        , 20.        ]])"
      ]
     },
     "execution_count": 5,
     "metadata": {},
     "output_type": "execute_result"
    }
   ],
   "source": [
    "r = np.mat(I - Q) ** -1\n",
    "r"
   ]
  },
  {
   "cell_type": "code",
   "execution_count": 6,
   "metadata": {},
   "outputs": [
    {
     "name": "stdout",
     "output_type": "stream",
     "text": [
      "17.5 anos\n"
     ]
    }
   ],
   "source": [
    "print(r[0].sum().round(3), \"anos\")"
   ]
  },
  {
   "cell_type": "markdown",
   "metadata": {},
   "source": [
    "2. Qual a probabilidade de um estagiário conseguir chegar a sócio da empresa?  "
   ]
  },
  {
   "cell_type": "markdown",
   "metadata": {},
   "source": [
    "_Não é possível responder a partir da formulação anterior. Neste caso (2), podemos pensar que a probabilidade de um estagiário conseguir chegar a sócio da empresa é igual à probabilidade de sair da empresa como sócio. Assim, devemo desagregar o estado \"Fora da Empresa\" em dois distintos:_\n",
    "\n",
    "**Fora não como sócio** e **Fora como sócio**"
   ]
  },
  {
   "cell_type": "code",
   "execution_count": 7,
   "metadata": {},
   "outputs": [
    {
     "data": {
      "text/plain": [
       "array([[0.05, 0.  ],\n",
       "       [0.1 , 0.  ],\n",
       "       [0.  , 0.05]])"
      ]
     },
     "execution_count": 7,
     "metadata": {},
     "output_type": "execute_result"
    }
   ],
   "source": [
    "R_ = np.array([[0.05, 0 ], [0.10, 0], [0, 0.05]]); R_"
   ]
  },
  {
   "cell_type": "markdown",
   "metadata": {},
   "source": [
    "$(I - Q) ^{-1} \\cdot R$"
   ]
  },
  {
   "cell_type": "code",
   "execution_count": 8,
   "metadata": {},
   "outputs": [
    {
     "data": {
      "text/plain": [
       "matrix([[0.5       , 0.5       ],\n",
       "        [0.33333333, 0.66666667],\n",
       "        [0.        , 1.        ]])"
      ]
     },
     "execution_count": 8,
     "metadata": {},
     "output_type": "execute_result"
    }
   ],
   "source": [
    "r = (np.mat(I - Q) ** -1).dot(R_)\n",
    "r"
   ]
  },
  {
   "cell_type": "code",
   "execution_count": 9,
   "metadata": {},
   "outputs": [
    {
     "data": {
      "text/plain": [
       "49.99999999999996"
      ]
     },
     "execution_count": 9,
     "metadata": {},
     "output_type": "execute_result"
    }
   ],
   "source": [
    "r[0, 1] * 100 # probabilidade (em %) de um estagiário sair da empresa como sócio (é o mesmo que chegar a sócio)"
   ]
  },
  {
   "cell_type": "markdown",
   "metadata": {},
   "source": [
    "3. Em média, durante quanto tempo um sócio permanecerá na empresa (nessa condição)?"
   ]
  },
  {
   "cell_type": "code",
   "execution_count": 10,
   "metadata": {},
   "outputs": [
    {
     "data": {
      "text/plain": [
       "array([[0.05],\n",
       "       [0.1 ],\n",
       "       [0.05]])"
      ]
     },
     "execution_count": 10,
     "metadata": {},
     "output_type": "execute_result"
    }
   ],
   "source": [
    "R"
   ]
  },
  {
   "cell_type": "markdown",
   "metadata": {},
   "source": [
    "A probabilidade de um sócio sair é 0.05. Assim, o número de anos que demorará a sair é o seu inverso."
   ]
  },
  {
   "cell_type": "code",
   "execution_count": 11,
   "metadata": {},
   "outputs": [
    {
     "name": "stdout",
     "output_type": "stream",
     "text": [
      "20.0 anos\n"
     ]
    }
   ],
   "source": [
    "print(R[2][0] ** -1, \"anos\")"
   ]
  }
 ],
 "metadata": {
  "authors": [
   {
    "name": "Nelson Estevão"
   }
  ],
  "kernelspec": {
   "display_name": "Python 3.8.3 64-bit ('.venv': venv)",
   "language": "python",
   "name": "python38364bitvenvvenv0cd21d15f6f64e928c8c7ff7ed114df2"
  },
  "language_info": {
   "codemirror_mode": {
    "name": "ipython",
    "version": 3
   },
   "file_extension": ".py",
   "mimetype": "text/x-python",
   "name": "python",
   "nbconvert_exporter": "python",
   "pygments_lexer": "ipython3",
   "version": "3.8.3"
  },
  "title": "Modelos Estocásticos de Investigação Operacional"
 },
 "nbformat": 4,
 "nbformat_minor": 4
}
