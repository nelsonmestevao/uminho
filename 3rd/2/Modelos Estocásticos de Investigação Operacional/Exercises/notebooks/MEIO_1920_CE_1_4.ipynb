{
 "cells": [
  {
   "cell_type": "markdown",
   "metadata": {},
   "source": [
    "# Cadeias de Markov ergódicas"
   ]
  },
  {
   "cell_type": "markdown",
   "metadata": {},
   "source": [
    "## Exercício 1.4"
   ]
  },
  {
   "cell_type": "markdown",
   "metadata": {},
   "source": [
    "**_Determine a percentagem de vezes (ou de tempo) em que a costureira fica sem peça alguma para costurar, considerando que todas as peças de roupa que se encontram na sua mesa de trabalho no final de um dia de trabalho serão processadas no dia seguinte._**"
   ]
  },
  {
   "cell_type": "markdown",
   "metadata": {},
   "source": [
    "Estágios = ${0, 1, 2, 3}$\n",
    "\n",
    "Próximo Estado = Estado Anterior (${0, 1, 2, 3}$) - Nº de Peças retiradas pela costureia (${0, 1}$) + Nº Peças deixadas pelo mensageiro (${0, 1, 2}$)"
   ]
  },
  {
   "cell_type": "code",
   "execution_count": 1,
   "metadata": {},
   "outputs": [
    {
     "data": {
      "text/plain": [
       "array([[0.3, 0.5, 0.2, 0. ],\n",
       "       [0.3, 0.5, 0.2, 0. ],\n",
       "       [0. , 0.3, 0.5, 0.2],\n",
       "       [0. , 0. , 0.3, 0.7]])"
      ]
     },
     "execution_count": 1,
     "metadata": {},
     "output_type": "execute_result"
    }
   ],
   "source": [
    "import numpy as np\n",
    "\n",
    "P = np.array([[0.3, 0.5, 0.2, 0], # 0\n",
    "              [0.3, 0.5, 0.2, 0], # 1\n",
    "              [0, 0.3, 0.5, 0.2], # 2\n",
    "              [0,  0, 0.3, 0.7]]) # 3\n",
    "P"
   ]
  },
  {
   "cell_type": "code",
   "execution_count": 2,
   "metadata": {},
   "outputs": [],
   "source": [
    "from sympy import symbols, Eq, solve\n",
    "pi_1, pi_2, pi_3, pi_4 = symbols('pi_1 pi_2 pi_3 pi_4')"
   ]
  },
  {
   "cell_type": "markdown",
   "metadata": {},
   "source": [
    "O que responde à pergunta é o resultado do processo na sua fase estacionária.\n",
    "\n",
    "$[\\pi_1, \\pi_2, \\pi_3, \\pi_4] = [\\pi_1, \\pi_2, \\pi_3, \\pi_4] \\cdot P$"
   ]
  },
  {
   "cell_type": "code",
   "execution_count": 3,
   "metadata": {},
   "outputs": [
    {
     "data": {
      "text/plain": [
       "array([0.3*pi_1 + 0.3*pi_2, 0.5*pi_1 + 0.5*pi_2 + 0.3*pi_3,\n",
       "       0.2*pi_1 + 0.2*pi_2 + 0.5*pi_3 + 0.3*pi_4, 0.2*pi_3 + 0.7*pi_4],\n",
       "      dtype=object)"
      ]
     },
     "execution_count": 3,
     "metadata": {},
     "output_type": "execute_result"
    }
   ],
   "source": [
    "pis = [pi_1, pi_2, pi_3, pi_4]\n",
    "expressions = np.dot(pis, P); expressions"
   ]
  },
  {
   "cell_type": "markdown",
   "metadata": {},
   "source": [
    "O sistema de equações é o seguinte:\n",
    "\n",
    "$\\pi_1 = [\\pi_1, \\pi_2, \\pi_3, \\pi_4] \\cdot P$\n",
    "\n",
    "$\\pi_2 = [\\pi_1, \\pi_2, \\pi_3, \\pi_4] \\cdot P$\n",
    "\n",
    "$\\pi_3 = [\\pi_1, \\pi_2, \\pi_3, \\pi_4] \\cdot P$\n",
    "\n",
    "$\\pi_4 = [\\pi_1, \\pi_2, \\pi_3, \\pi_4] \\cdot P$\n",
    "\n",
    "$\\pi_1 + \\pi_2 + \\pi_3 + \\pi_4 = 1$"
   ]
  },
  {
   "cell_type": "code",
   "execution_count": 4,
   "metadata": {},
   "outputs": [
    {
     "data": {
      "text/latex": [
       "$\\displaystyle 0.3 \\pi_{1} + 0.3 \\pi_{2} = \\pi_{1}$"
      ],
      "text/plain": [
       "Eq(0.3*pi_1 + 0.3*pi_2, pi_1)"
      ]
     },
     "metadata": {},
     "output_type": "display_data"
    },
    {
     "data": {
      "text/latex": [
       "$\\displaystyle 0.5 \\pi_{1} + 0.5 \\pi_{2} + 0.3 \\pi_{3} = \\pi_{2}$"
      ],
      "text/plain": [
       "Eq(0.5*pi_1 + 0.5*pi_2 + 0.3*pi_3, pi_2)"
      ]
     },
     "metadata": {},
     "output_type": "display_data"
    },
    {
     "data": {
      "text/latex": [
       "$\\displaystyle 0.2 \\pi_{1} + 0.2 \\pi_{2} + 0.5 \\pi_{3} + 0.3 \\pi_{4} = \\pi_{3}$"
      ],
      "text/plain": [
       "Eq(0.2*pi_1 + 0.2*pi_2 + 0.5*pi_3 + 0.3*pi_4, pi_3)"
      ]
     },
     "metadata": {},
     "output_type": "display_data"
    },
    {
     "data": {
      "text/latex": [
       "$\\displaystyle \\pi_{1} + \\pi_{2} + \\pi_{3} + \\pi_{4} = 1$"
      ],
      "text/plain": [
       "Eq(pi_1 + pi_2 + pi_3 + pi_4, 1)"
      ]
     },
     "metadata": {},
     "output_type": "display_data"
    }
   ],
   "source": [
    "equations = []\n",
    "\n",
    "for exp, pi in zip(expressions, pis):\n",
    "    equations.append(Eq(exp, pi))\n",
    "    \n",
    "len(equations)\n",
    "equations[len(equations) - 1] = Eq(pi_1 + pi_2 + pi_3 + pi_4, 1)\n",
    "\n",
    "for eq in equations:\n",
    "    display(eq)"
   ]
  },
  {
   "cell_type": "code",
   "execution_count": 5,
   "metadata": {},
   "outputs": [
    {
     "data": {
      "text/plain": [
       "{pi_1: 0.142105263157895,\n",
       " pi_2: 0.331578947368421,\n",
       " pi_3: 0.315789473684211,\n",
       " pi_4: 0.210526315789474}"
      ]
     },
     "execution_count": 5,
     "metadata": {},
     "output_type": "execute_result"
    }
   ],
   "source": [
    "solve(tuple(equations), tuple(pis))"
   ]
  }
 ],
 "metadata": {
  "authors": [
   {
    "name": "Nelson Estevão"
   }
  ],
  "kernelspec": {
   "display_name": "Python 3",
   "language": "python",
   "name": "python3"
  },
  "language_info": {
   "codemirror_mode": {
    "name": "ipython",
    "version": 3
   },
   "file_extension": ".py",
   "mimetype": "text/x-python",
   "name": "python",
   "nbconvert_exporter": "python",
   "pygments_lexer": "ipython3",
   "version": "3.8.3"
  },
  "title": "Modelos Estocásticos de Investigação Operacional"
 },
 "nbformat": 4,
 "nbformat_minor": 4
}
