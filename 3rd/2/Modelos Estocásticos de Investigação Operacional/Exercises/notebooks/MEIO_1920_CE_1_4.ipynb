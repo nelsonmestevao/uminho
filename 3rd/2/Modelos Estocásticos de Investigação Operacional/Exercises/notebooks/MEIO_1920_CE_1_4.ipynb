{
 "cells": [
  {
   "cell_type": "code",
   "execution_count": 1,
   "metadata": {},
   "outputs": [],
   "source": [
    "import numpy as np"
   ]
  },
  {
   "cell_type": "markdown",
   "metadata": {},
   "source": [
    "# Cadeias de Markov ergódicas"
   ]
  },
  {
   "cell_type": "markdown",
   "metadata": {},
   "source": [
    "## Exercício 1.4"
   ]
  },
  {
   "cell_type": "markdown",
   "metadata": {},
   "source": [
    "**_Determine a percentagem de vezes (ou de tempo) em que a costureira fica sem peça alguma para costurar, considerando que todas as peças de roupa que se encontram na sua mesa de trabalho no final de um dia de trabalho serão processadas no dia seguinte._**"
   ]
  },
  {
   "cell_type": "markdown",
   "metadata": {},
   "source": [
    "Estágios = ${0, 1, 2, 3}$\n",
    "\n",
    "Próximo Estado = Estado Anterior (${0, 1, 2, 3}$) - Nº de Peças retiradas pela costureia (${0, 1}$) + Nº Peças deixadas pelo mensageiro (${0, 1, 2}$)"
   ]
  },
  {
   "cell_type": "code",
   "execution_count": 2,
   "metadata": {},
   "outputs": [
    {
     "data": {
      "text/plain": [
       "array([[0.3, 0.5, 0.2, 0. ],\n",
       "       [0.3, 0.5, 0.2, 0. ],\n",
       "       [0. , 0.3, 0.5, 0.2],\n",
       "       [0. , 0. , 0.3, 0.7]])"
      ]
     },
     "execution_count": 2,
     "metadata": {},
     "output_type": "execute_result"
    }
   ],
   "source": [
    "P = np.array([[0.3, 0.5, 0.2, 0], # 0\n",
    "              [0.3, 0.5, 0.2, 0], # 1\n",
    "              [0, 0.3, 0.5, 0.2], # 2\n",
    "              [0,  0, 0.3, 0.7]]) # 3\n",
    "P"
   ]
  },
  {
   "cell_type": "markdown",
   "metadata": {},
   "source": [
    "O que responde à pergunta é o resultado do processo na sua fase estacionária.\n",
    "\n",
    "$[\\pi_1, \\pi_2] = [\\pi_1, \\pi_2] \\cdot P$"
   ]
  },
  {
   "cell_type": "code",
   "execution_count": null,
   "metadata": {},
   "outputs": [],
   "source": []
  }
 ],
 "metadata": {
  "authors": [
   {
    "name": "Nelson Estevão"
   }
  ],
  "kernelspec": {
   "display_name": "Python 3.8.3 64-bit ('.venv': venv)",
   "language": "python",
   "name": "python38364bitvenvvenv0cd21d15f6f64e928c8c7ff7ed114df2"
  },
  "language_info": {
   "codemirror_mode": {
    "name": "ipython",
    "version": 3
   },
   "file_extension": ".py",
   "mimetype": "text/x-python",
   "name": "python",
   "nbconvert_exporter": "python",
   "pygments_lexer": "ipython3",
   "version": "3.8.3"
  },
  "title": "Modelos Estocásticos de Investigação Operacional"
 },
 "nbformat": 4,
 "nbformat_minor": 4
}
