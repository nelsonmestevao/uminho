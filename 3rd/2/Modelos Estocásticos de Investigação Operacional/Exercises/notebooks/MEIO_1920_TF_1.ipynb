{
 "cells": [
  {
   "cell_type": "markdown",
   "metadata": {},
   "source": [
    "# Teste - Parte 1"
   ]
  },
  {
   "cell_type": "markdown",
   "metadata": {},
   "source": [
    "## Capítulo 1 - Processos e programação dinâmica estocástica\n",
    " "
   ]
  },
  {
   "cell_type": "markdown",
   "metadata": {},
   "source": [
    "## Capítulo 2 - Filas de espera"
   ]
  },
  {
   "cell_type": "markdown",
   "metadata": {},
   "source": [
    "Com o objetivo de melhorar o atendimento ao público, os serviços de planeamento dos correios resolveram analisar o funcionamento de uma estação considerada típica. A informação recolhida, para uma situação de apenas dois guichets em funcionamento (guichet A: registos+selos, guichet B: telefone+vales+encomendas), revelou que:\n",
    "\n",
    "- o intervalo de tempo entre chegadas de utentes aos guichets segue uma distribuição próxima da exponencial negativa, com média de 70 e 90 segundos, para os guichets A e B, respetivamente;\n",
    "- os tempos de atendimento nos dois guichets seguem distribuições semelhantes, aproximadas da exponencial negativa, com média de 60 segundos;\n",
    "- é desprezável o número de utentes que necessitam de serviços dos dois guichets."
   ]
  },
  {
   "cell_type": "code",
   "execution_count": 1,
   "metadata": {},
   "outputs": [
    {
     "data": {
      "text/plain": [
       "(0.8571428571428571, 0.6666666666666667)"
      ]
     },
     "execution_count": 1,
     "metadata": {},
     "output_type": "execute_result"
    }
   ],
   "source": [
    "y_a = 1 / 70\n",
    "y_b = 1 / 90\n",
    "\n",
    "u = 1 / 60\n",
    "\n",
    "ró_a = y_a / u\n",
    "ró_b = y_b / u\n",
    "\n",
    "ró_a, ró_b"
   ]
  },
  {
   "cell_type": "markdown",
   "metadata": {},
   "source": [
    "a) O número médio de utentes na estação e os tempos médios de espera em cada uma das filas."
   ]
  },
  {
   "cell_type": "code",
   "execution_count": 2,
   "metadata": {},
   "outputs": [
    {
     "data": {
      "text/plain": [
       "(6, 2)"
      ]
     },
     "execution_count": 2,
     "metadata": {},
     "output_type": "execute_result"
    }
   ],
   "source": [
    "L_a = ró_a / (1 - ró_a)\n",
    "L_b = ró_b / (1 - ró_b)\n",
    "\n",
    "round(L_a), round(L_b)"
   ]
  },
  {
   "cell_type": "code",
   "execution_count": 3,
   "metadata": {},
   "outputs": [
    {
     "data": {
      "text/plain": [
       "(41.42857142857142, 10.000000000000014)"
      ]
     },
     "execution_count": 3,
     "metadata": {},
     "output_type": "execute_result"
    }
   ],
   "source": [
    "Lq_a = (ró_a ** 2) - (1 - ró_a)\n",
    "\n",
    "Wq_a = Lq_a / y_a; \n",
    "\n",
    "Lq_b = (ró_b ** 2) - (1 - ró_b)\n",
    "\n",
    "Wq_b = Lq_b / y_b; \n",
    "\n",
    "Wq_a, Wq_b"
   ]
  },
  {
   "cell_type": "markdown",
   "metadata": {},
   "source": [
    "b) A variação nos tempos de espera dos utentes, no caso de ambos os guichets (A e B) passarem a fornecer todos os serviços. (Para S=2, considere a aproximação P0=0,14, caso não lhe seja possível calcular um valor mais exato em pouco tempo.) "
   ]
  },
  {
   "cell_type": "code",
   "execution_count": 4,
   "metadata": {},
   "outputs": [
    {
     "data": {
      "text/plain": [
       "0.012698412698412698"
      ]
     },
     "execution_count": 4,
     "metadata": {},
     "output_type": "execute_result"
    }
   ],
   "source": [
    "y = (y_a + y_b) * 0.5; y"
   ]
  },
  {
   "cell_type": "code",
   "execution_count": 5,
   "metadata": {},
   "outputs": [
    {
     "data": {
      "text/plain": [
       "1.308038095238095"
      ]
     },
     "execution_count": 5,
     "metadata": {},
     "output_type": "execute_result"
    }
   ],
   "source": [
    "P_0 = 0.14\n",
    "\n",
    "ró = y / u\n",
    "\n",
    "Lq = (P_0 * ((y/u)**2) * ró) / (2 * ((1 - ró) **2))\n",
    "\n",
    "L = Lq + ró\n",
    "\n",
    "L"
   ]
  }
 ],
 "metadata": {
  "authors": [
   {
    "name": "Nelson Estevão"
   }
  ],
  "kernelspec": {
   "display_name": "Python 3",
   "language": "python",
   "name": "python3"
  },
  "language_info": {
   "codemirror_mode": {
    "name": "ipython",
    "version": 3
   },
   "file_extension": ".py",
   "mimetype": "text/x-python",
   "name": "python",
   "nbconvert_exporter": "python",
   "pygments_lexer": "ipython3",
   "version": "3.8.3"
  },
  "title": "Modelos Estocásticos de Investigação Operacional"
 },
 "nbformat": 4,
 "nbformat_minor": 4
}
